{
 "cells": [
  {
   "cell_type": "code",
   "execution_count": 1,
   "metadata": {},
   "outputs": [
    {
     "ename": "ImportError",
     "evalue": "No module named 'data_smoothing'",
     "output_type": "error",
     "traceback": [
      "\u001b[0;31m---------------------------------------------------------------------------\u001b[0m",
      "\u001b[0;31mImportError\u001b[0m                               Traceback (most recent call last)",
      "\u001b[0;32m<ipython-input-1-32dfb755f2c2>\u001b[0m in \u001b[0;36m<module>\u001b[0;34m()\u001b[0m\n\u001b[0;32m----> 1\u001b[0;31m \u001b[0;32mfrom\u001b[0m \u001b[0mpeakaboo\u001b[0m\u001b[0;34m.\u001b[0m\u001b[0mpeak_classify\u001b[0m \u001b[0;32mimport\u001b[0m \u001b[0mdata_grouping\u001b[0m\u001b[0;34m\u001b[0m\u001b[0m\n\u001b[0m\u001b[1;32m      2\u001b[0m \u001b[0;32mfrom\u001b[0m \u001b[0mpeakaboo\u001b[0m\u001b[0;34m.\u001b[0m\u001b[0mpeak_classify\u001b[0m \u001b[0;32mimport\u001b[0m \u001b[0mcluster_classifier\u001b[0m\u001b[0;34m\u001b[0m\u001b[0m\n\u001b[1;32m      3\u001b[0m \u001b[0;32mimport\u001b[0m \u001b[0mnumpy\u001b[0m \u001b[0;32mas\u001b[0m \u001b[0mnp\u001b[0m\u001b[0;34m\u001b[0m\u001b[0m\n\u001b[1;32m      4\u001b[0m \u001b[0;32mimport\u001b[0m \u001b[0mpandas\u001b[0m \u001b[0;32mas\u001b[0m \u001b[0mpd\u001b[0m\u001b[0;34m\u001b[0m\u001b[0m\n\u001b[1;32m      5\u001b[0m \u001b[0;32mfrom\u001b[0m \u001b[0msklearn\u001b[0m\u001b[0;34m.\u001b[0m\u001b[0mcluster\u001b[0m \u001b[0;32mimport\u001b[0m \u001b[0mKMeans\u001b[0m\u001b[0;34m\u001b[0m\u001b[0m\n",
      "\u001b[0;32m~/.local/lib/python3.5/site-packages/peakaboo/__init__.py\u001b[0m in \u001b[0;36m<module>\u001b[0;34m()\u001b[0m\n\u001b[1;32m      7\u001b[0m \"\"\"\n\u001b[1;32m      8\u001b[0m \u001b[0;34m\u001b[0m\u001b[0m\n\u001b[0;32m----> 9\u001b[0;31m \u001b[0;32mfrom\u001b[0m \u001b[0;34m.\u001b[0m\u001b[0mpeakaboo\u001b[0m \u001b[0;32mimport\u001b[0m \u001b[0;34m*\u001b[0m\u001b[0;34m\u001b[0m\u001b[0m\n\u001b[0m\u001b[1;32m     10\u001b[0m \u001b[0;32mfrom\u001b[0m \u001b[0;34m.\u001b[0m\u001b[0mversion\u001b[0m \u001b[0;32mimport\u001b[0m \u001b[0m__version__\u001b[0m\u001b[0;34m\u001b[0m\u001b[0m\n",
      "\u001b[0;32m~/.local/lib/python3.5/site-packages/peakaboo/peakaboo.py\u001b[0m in \u001b[0;36m<module>\u001b[0;34m()\u001b[0m\n\u001b[1;32m      6\u001b[0m \"\"\"\n\u001b[1;32m      7\u001b[0m \u001b[0;34m\u001b[0m\u001b[0m\n\u001b[0;32m----> 8\u001b[0;31m \u001b[0;32mimport\u001b[0m \u001b[0mdata_smoothing\u001b[0m\u001b[0;34m\u001b[0m\u001b[0m\n\u001b[0m\u001b[1;32m      9\u001b[0m \u001b[0;32mfrom\u001b[0m \u001b[0mpeak_finding_userinter\u001b[0m \u001b[0;32mimport\u001b[0m \u001b[0mfindpeaks\u001b[0m\u001b[0;34m\u001b[0m\u001b[0m\n\u001b[1;32m     10\u001b[0m \u001b[0;32mimport\u001b[0m \u001b[0msmoothing_visualize\u001b[0m\u001b[0;34m\u001b[0m\u001b[0m\n",
      "\u001b[0;31mImportError\u001b[0m: No module named 'data_smoothing'"
     ]
    }
   ],
   "source": [
    "from peakaboo.peak_classify import data_grouping\n",
    "from peakaboo.peak_classify import cluster_classifier\n",
    "import numpy as np\n",
    "import pandas as pd\n",
    "from sklearn.cluster import KMeans"
   ]
  },
  {
   "cell_type": "code",
   "execution_count": 2,
   "metadata": {},
   "outputs": [],
   "source": [
    "def data_grouping(index_df, height_df, fwhm_df, threshold):\n",
    "    peak_list = []\n",
    "    \n",
    "    for i in range(index_df.shape[0]):\n",
    "        for j in range(index_df.shape[1]):\n",
    "            peak_list.append(\n",
    "            [index_df.loc[i,j], height_df.loc[i,j], fwhm_df.loc[i,j], i])\n",
    "        \n",
    "    all_points = pd.DataFrame(peak_list, \n",
    "    columns=['Position', 'Height', 'Width', 'Time'])\n",
    "    fill_na = all_points.fillna(value=0)\n",
    "    corrected_output = fill_na.drop(fill_na[abs(fill_na.Height) < threshold].index)\n",
    "    corrected_output = corrected_output.reset_index(drop=True)\n",
    "    \n",
    "    return corrected_output"
   ]
  },
  {
   "cell_type": "code",
   "execution_count": 3,
   "metadata": {},
   "outputs": [],
   "source": [
    "def test_data_grouping():\n",
    "    index_df = np.zeros((2, 2))\n",
    "    height_df = pd.DataFrame([1, 2, 3])\n",
    "    fwhm_df = pd.DataFrame([4, 5, 6])\n",
    "    threshold = 1\n",
    "    try:\n",
    "        data_grouping(index_df, height_df, fwhm_df, threshold)\n",
    "    except AttributeError:\n",
    "        pass\n",
    "    else:\n",
    "        print('Incorrect data type passed', 'Check peak_finding_master output')\n",
    "        \n",
    "    index_df = pd.DataFrame()\n",
    "    height_df = pd.DataFrame([1, 2, 3])\n",
    "    fwhm_df = pd.DataFrame([4, 5, 6])\n",
    "    threshold = 1\n",
    "    t = data_grouping(index_df, height_df, fwhm_df, threshold)\n",
    "    assert len(t) == 0, \"Index data frame is empty\"\n",
    "    \n",
    "    index_df = pd.DataFrame([1, 2, 3])\n",
    "    height_df = pd.DataFrame()\n",
    "    fwhm_df = pd.DataFrame([4, 5, 6])\n",
    "    threshold = 1\n",
    "    try:\n",
    "        data_grouping(index_df, height_df, fwhm_df, threshold)\n",
    "    except KeyError:\n",
    "        pass\n",
    "    else:\n",
    "        print('Height data frame empty', 'Check peak_finding_master output')\n",
    "        \n",
    "    index_df = pd.DataFrame([[1, 2, 3], [4, 5, 6], [7, 8, 9]])\n",
    "    height_df = pd.DataFrame([[1, 2, 3], [4, 5, 6], [7, 8, 9]])\n",
    "    fwhm_df = pd.DataFrame([[1, 2, 3], [4, 5, 6], [7, 8, 9]])\n",
    "    threshold = 10\n",
    "    t = data_grouping(index_df, height_df, fwhm_df, threshold)\n",
    "    assert len(t) == 0, \"Threshold is too high\""
   ]
  },
  {
   "cell_type": "code",
   "execution_count": 4,
   "metadata": {},
   "outputs": [
    {
     "ename": "NameError",
     "evalue": "name 'np' is not defined",
     "output_type": "error",
     "traceback": [
      "\u001b[0;31m---------------------------------------------------------------------------\u001b[0m",
      "\u001b[0;31mNameError\u001b[0m                                 Traceback (most recent call last)",
      "\u001b[0;32m<ipython-input-4-07a029598917>\u001b[0m in \u001b[0;36m<module>\u001b[0;34m()\u001b[0m\n\u001b[0;32m----> 1\u001b[0;31m \u001b[0mtest_data_grouping\u001b[0m\u001b[0;34m(\u001b[0m\u001b[0;34m)\u001b[0m\u001b[0;34m\u001b[0m\u001b[0m\n\u001b[0m",
      "\u001b[0;32m<ipython-input-3-f309978316b4>\u001b[0m in \u001b[0;36mtest_data_grouping\u001b[0;34m()\u001b[0m\n\u001b[1;32m      1\u001b[0m \u001b[0;32mdef\u001b[0m \u001b[0mtest_data_grouping\u001b[0m\u001b[0;34m(\u001b[0m\u001b[0;34m)\u001b[0m\u001b[0;34m:\u001b[0m\u001b[0;34m\u001b[0m\u001b[0m\n\u001b[0;32m----> 2\u001b[0;31m     \u001b[0mindex_df\u001b[0m \u001b[0;34m=\u001b[0m \u001b[0mnp\u001b[0m\u001b[0;34m.\u001b[0m\u001b[0mzeros\u001b[0m\u001b[0;34m(\u001b[0m\u001b[0;34m(\u001b[0m\u001b[0;36m2\u001b[0m\u001b[0;34m,\u001b[0m \u001b[0;36m2\u001b[0m\u001b[0;34m)\u001b[0m\u001b[0;34m)\u001b[0m\u001b[0;34m\u001b[0m\u001b[0m\n\u001b[0m\u001b[1;32m      3\u001b[0m     \u001b[0mheight_df\u001b[0m \u001b[0;34m=\u001b[0m \u001b[0mpd\u001b[0m\u001b[0;34m.\u001b[0m\u001b[0mDataFrame\u001b[0m\u001b[0;34m(\u001b[0m\u001b[0;34m[\u001b[0m\u001b[0;36m1\u001b[0m\u001b[0;34m,\u001b[0m \u001b[0;36m2\u001b[0m\u001b[0;34m,\u001b[0m \u001b[0;36m3\u001b[0m\u001b[0;34m]\u001b[0m\u001b[0;34m)\u001b[0m\u001b[0;34m\u001b[0m\u001b[0m\n\u001b[1;32m      4\u001b[0m     \u001b[0mfwhm_df\u001b[0m \u001b[0;34m=\u001b[0m \u001b[0mpd\u001b[0m\u001b[0;34m.\u001b[0m\u001b[0mDataFrame\u001b[0m\u001b[0;34m(\u001b[0m\u001b[0;34m[\u001b[0m\u001b[0;36m4\u001b[0m\u001b[0;34m,\u001b[0m \u001b[0;36m5\u001b[0m\u001b[0;34m,\u001b[0m \u001b[0;36m6\u001b[0m\u001b[0;34m]\u001b[0m\u001b[0;34m)\u001b[0m\u001b[0;34m\u001b[0m\u001b[0m\n\u001b[1;32m      5\u001b[0m     \u001b[0mthreshold\u001b[0m \u001b[0;34m=\u001b[0m \u001b[0;36m1\u001b[0m\u001b[0;34m\u001b[0m\u001b[0m\n",
      "\u001b[0;31mNameError\u001b[0m: name 'np' is not defined"
     ]
    }
   ],
   "source": [
    "test_data_grouping()"
   ]
  },
  {
   "cell_type": "code",
   "execution_count": null,
   "metadata": {},
   "outputs": [],
   "source": [
    "def cluster_classifier(index_df, corrected_output):\n",
    "    found_peak = index_df.shape[1]\n",
    "    cluster = KMeans(n_clusters=found_peak).fit(corrected_output.iloc[:,:-2])\n",
    "    cluster_dict = {}\n",
    "    \n",
    "    for i in range(found_peak):\n",
    "            cluster_dict['peak_%s' % i] = []\n",
    "            \n",
    "    for j in range(corrected_output.shape[0]):\n",
    "        peak = cluster.predict([corrected_output.values[j,:-2]])\n",
    "        for k in range(found_peak):\n",
    "            if (peak == k):\n",
    "                cluster_dict['peak_%s' % k].append(corrected_output.values[j])\n",
    "        \n",
    "    peak_dict = { k:v for k, v in cluster_dict.items() if len(v) >= 20}\n",
    "    return peak_dict"
   ]
  },
  {
   "cell_type": "code",
   "execution_count": null,
   "metadata": {},
   "outputs": [],
   "source": [
    "def test_cluster_classifier():\n",
    "    index_df = pd.DataFrame([[1, 1, 5], [1, 2, 10], [1, 2, 6]])\n",
    "    corrected_output = pd.DataFrame()\n",
    "    try:\n",
    "        cluster_classifier(index_df, corrected_output)\n",
    "    except ValueError:\n",
    "        pass\n",
    "    else:\n",
    "        print('ValueError not handled for empty input dataframe.')\n",
    "        \n",
    "    index_df = pd.DataFrame([[1, 1, 5], [1, 2, 10], [1, 2, 6]])\n",
    "    corrected_output = pd.DataFrame([[1, 1, 1, 1], [1, 2, 1, 1], [5, 5, 5, 1],\n",
    "                                   [1, 1, 2, 2], [2, 2, 1, 2], [10, 7, 6, 2], \n",
    "                                   [1, 2, 2, 3], [2, 1, 3, 3], [6, 6, 6, 3]])\n",
    "    t = cluster_classifier(index_df, corrected_output)    \n",
    "    assert len(t) == 0, \\\n",
    "        \"Did not truncate sparse peaks\"\n",
    "        \n",
    "    index_df = pd.DataFrame([[1, 1], [1, 2], [1, 2]])\n",
    "    corrected_output = pd.DataFrame([[1, 1, 1, 1], [1, 2, 1, 1], [5, 5, 5, 1],\n",
    "                                    [1, 1, 2, 2], [2, 2, 1, 2], [10, 7, 6, 2], \n",
    "                                    [1, 2, 2, 3], [2, 1, 3, 3], [6, 6, 6, 3],\n",
    "                                    [1, 2, 2, 3], [2, 1, 3, 3], [6, 6, 6, 3],\n",
    "                                    [1, 2, 2, 3], [2, 1, 3, 3], [6, 6, 6, 3],\n",
    "                                    [1, 2, 2, 3], [2, 1, 3, 3], [6, 6, 6, 3],\n",
    "                                    [1, 2, 2, 3], [2, 1, 3, 3], [100, 100, 6, 3]])\n",
    "    t = cluster_classifier(index_df, corrected_output)   \n",
    "    assert len(t) == 1, \\\n",
    "        \"Did not properly classify peaks\"\n",
    "    assert len(t['peak_0']) == 20, \\\n",
    "        \"Dictionary did not populate properly\""
   ]
  },
  {
   "cell_type": "code",
   "execution_count": null,
   "metadata": {},
   "outputs": [],
   "source": [
    "test_cluster_classifier()"
   ]
  }
 ],
 "metadata": {
  "kernelspec": {
   "display_name": "Python 3",
   "language": "python",
   "name": "python3"
  },
  "language_info": {
   "codemirror_mode": {
    "name": "ipython",
    "version": 3
   },
   "file_extension": ".py",
   "mimetype": "text/x-python",
   "name": "python",
   "nbconvert_exporter": "python",
   "pygments_lexer": "ipython3",
   "version": "3.5.2"
  }
 },
 "nbformat": 4,
 "nbformat_minor": 2
}
