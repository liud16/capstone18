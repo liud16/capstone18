{
 "cells": [
  {
   "cell_type": "code",
   "execution_count": 8,
   "metadata": {},
   "outputs": [],
   "source": [
    "import data_smoothing\n",
    "import find_peaks\n",
    "import peak_character\n",
    "import peak_classify"
   ]
  },
  {
   "cell_type": "code",
   "execution_count": 3,
   "metadata": {},
   "outputs": [],
   "source": [
    "data_nm, data_time, data_z = data_smoothing.load_data('20180418_twogaussian_spectralshfit.txt')"
   ]
  },
  {
   "cell_type": "code",
   "execution_count": 4,
   "metadata": {
    "scrolled": true
   },
   "outputs": [
    {
     "name": "stderr",
     "output_type": "stream",
     "text": [
      "/Users/demiliu/miniconda3/lib/python3.6/site-packages/sklearn_contrib_py_earth-0.1.0-py3.6-macosx-10.7-x86_64.egg/pyearth/earth.py:802: FutureWarning: `rcond` parameter will change to the default of machine precision times ``max(M, N)`` where M and N are the input matrix dimensions.\n",
      "To use the future default and silence this warning we advise to pass `rcond=None`, to keep using the old, explicitly pass `rcond=-1`.\n",
      "  pruning_passer.run()\n",
      "/Users/demiliu/miniconda3/lib/python3.6/site-packages/sklearn_contrib_py_earth-0.1.0-py3.6-macosx-10.7-x86_64.egg/pyearth/earth.py:1055: FutureWarning: `rcond` parameter will change to the default of machine precision times ``max(M, N)`` where M and N are the input matrix dimensions.\n",
      "To use the future default and silence this warning we advise to pass `rcond=None`, to keep using the old, explicitly pass `rcond=-1`.\n",
      "  coef, resid = np.linalg.lstsq(B, weighted_y[:, i])[0:2]\n"
     ]
    }
   ],
   "source": [
    "smooth_matx = data_smoothing.earth_smooth_matrix(data_nm, data_z)"
   ]
  },
  {
   "cell_type": "markdown",
   "metadata": {},
   "source": [
    "## load true peak position"
   ]
  },
  {
   "cell_type": "code",
   "execution_count": 6,
   "metadata": {},
   "outputs": [],
   "source": [
    "import numpy as np\n",
    "true_pos = np.genfromtxt('20180418_twogaussian_spectralshfit_x0.txt', delimiter='\\t')\n",
    "peak1_true = true_pos[:, 0]\n",
    "peak2_true = true_pos[:, 1]"
   ]
  },
  {
   "cell_type": "code",
   "execution_count": 9,
   "metadata": {},
   "outputs": [],
   "source": [
    "threshold = 0\n",
    "mindist = 0\n",
    "idx, height, fwhm = peak_character.peak_matrix(data_nm,np.array(smooth_matx), threshold, mindist)"
   ]
  },
  {
   "cell_type": "markdown",
   "metadata": {},
   "source": [
    "# convert peak index to nm"
   ]
  },
  {
   "cell_type": "code",
   "execution_count": 31,
   "metadata": {},
   "outputs": [],
   "source": [
    "idx_np = np.nan_to_num(np.array(idx))\n",
    "\n",
    "peak1 = np.empty(len(data_time))\n",
    "peak2 = np.empty_like(peak1)\n",
    "for i in range(np.shape(idx_np)[0]):\n",
    "    peak1[i] = data_nm[int(idx_np[:, 0][i])]\n",
    "    peak2[i] = data_nm[int(idx_np[:, 1][i])]"
   ]
  },
  {
   "cell_type": "markdown",
   "metadata": {},
   "source": [
    "## calculate relative error"
   ]
  },
  {
   "cell_type": "code",
   "execution_count": 35,
   "metadata": {},
   "outputs": [],
   "source": [
    "def peakpos_error_array_rel(true_pos, pos_output, thre):\n",
    "    error = 0\n",
    "    diff = np.empty_like(true_pos)\n",
    "    \n",
    "    for i in range(len(true_pos)):\n",
    "        diff[i] = abs(true_pos[i] - pos_output[i])\n",
    "        if diff[i] >= thre:\n",
    "            error += diff[i]/true_pos[i]\n",
    "            \n",
    "    return diff, error"
   ]
  },
  {
   "cell_type": "code",
   "execution_count": 36,
   "metadata": {},
   "outputs": [],
   "source": [
    "peak1_error = peakpos_error_array_rel(peak1_true, peak1, 3)\n",
    "peak2_error = peakpos_error_array_rel(peak2_true, peak2, 3)"
   ]
  },
  {
   "cell_type": "code",
   "execution_count": 37,
   "metadata": {},
   "outputs": [
    {
     "name": "stdout",
     "output_type": "stream",
     "text": [
      "0.1134003937706003\n",
      "32.565384615384595\n"
     ]
    }
   ],
   "source": [
    "print (peak1_error[1])\n",
    "print (peak2_error[1])"
   ]
  },
  {
   "cell_type": "markdown",
   "metadata": {},
   "source": [
    "## classify peak"
   ]
  },
  {
   "cell_type": "code",
   "execution_count": 38,
   "metadata": {},
   "outputs": [],
   "source": [
    "corrected_output = peak_classify.data_grouping(idx, height, fwhm)"
   ]
  },
  {
   "cell_type": "code",
   "execution_count": 39,
   "metadata": {},
   "outputs": [],
   "source": [
    "peak_dict = peak_classify.cluster_classifier(idx, corrected_output)"
   ]
  },
  {
   "cell_type": "code",
   "execution_count": 40,
   "metadata": {},
   "outputs": [
    {
     "data": {
      "text/plain": [
       "{'peak_0': [], 'peak_1': [Position    395.000000\n",
       "  Height        0.023764\n",
       "  Width       282.000000\n",
       "  Time        249.000000\n",
       "  Name: 499, dtype: float64]}"
      ]
     },
     "execution_count": 40,
     "metadata": {},
     "output_type": "execute_result"
    }
   ],
   "source": [
    "peak_dict"
   ]
  },
  {
   "cell_type": "code",
   "execution_count": null,
   "metadata": {},
   "outputs": [],
   "source": []
  }
 ],
 "metadata": {
  "kernelspec": {
   "display_name": "Python 3",
   "language": "python",
   "name": "python3"
  },
  "language_info": {
   "codemirror_mode": {
    "name": "ipython",
    "version": 3
   },
   "file_extension": ".py",
   "mimetype": "text/x-python",
   "name": "python",
   "nbconvert_exporter": "python",
   "pygments_lexer": "ipython3",
   "version": "3.6.3"
  }
 },
 "nbformat": 4,
 "nbformat_minor": 2
}
