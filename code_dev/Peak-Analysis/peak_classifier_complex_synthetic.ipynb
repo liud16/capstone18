{
 "cells": [
  {
   "cell_type": "code",
   "execution_count": 1,
   "metadata": {},
   "outputs": [],
   "source": [
    "import matplotlib.pyplot as plt\n",
    "import numpy as np\n",
    "import pandas as pd\n",
    "from scipy.spatial.distance import euclidean as dist\n",
    "import syntheticdata_2gauss_shifttogether_20180426 as synth"
   ]
  },
  {
   "cell_type": "code",
   "execution_count": 2,
   "metadata": {},
   "outputs": [],
   "source": [
    "peak1_pos = pd.DataFrame(synth.x0_2_shift)\n",
    "peak1_height = pd.DataFrame(synth.time_coeff_1)\n",
    "peak2_pos = pd.DataFrame(synth.x0_1_shift)\n",
    "peak2_height = pd.DataFrame(synth.time_coeff_2 * 0.3)"
   ]
  },
  {
   "cell_type": "code",
   "execution_count": 3,
   "metadata": {},
   "outputs": [],
   "source": [
    "time_slice = [[[peak2_pos.loc[i][0], peak2_height.loc[i][0], 100.0, i], [peak1_pos.loc[i][0], peak1_height.loc[i][0], 50, i]] for i in range(500)]"
   ]
  },
  {
   "cell_type": "code",
   "execution_count": 4,
   "metadata": {},
   "outputs": [
    {
     "data": {
      "text/plain": [
       "[[1113.5, 0.011401928122552293, 100.0, 327],\n",
       " [1234.5999999999851, 0.1949523712991825, 50, 327]]"
      ]
     },
     "execution_count": 4,
     "metadata": {},
     "output_type": "execute_result"
    }
   ],
   "source": [
    "time_slice[327]"
   ]
  },
  {
   "cell_type": "code",
   "execution_count": 5,
   "metadata": {},
   "outputs": [],
   "source": [
    "peak1_dist = [time_slice[0][0]]\n",
    "peak2_dist = [time_slice[0][1]]\n",
    "\n",
    "def euc_dist(time1, time2, peaks):\n",
    "    for i in range(peaks):\n",
    "        for j in range(peaks):\n",
    "            distance = dist(time1[i][:-1], time2[j][:-1])\n",
    "# Need to make these if, elif statements more generic\n",
    "            if ( i == 0 and distance <= 50 ):\n",
    "                peak1_dist.append(time2[j])\n",
    "            elif ( i == 1 and distance <= 50):\n",
    "                peak2_dist.append(time2[j])\n",
    "    return"
   ]
  },
  {
   "cell_type": "code",
   "execution_count": 6,
   "metadata": {},
   "outputs": [],
   "source": [
    "def dist_all_time(full_array, time):\n",
    "    for n in range(time):\n",
    "        euc_dist(full_array[n], full_array[n+1], 2)\n",
    "    return\n",
    "dist_all_time(time_slice, 499)"
   ]
  },
  {
   "cell_type": "code",
   "execution_count": 7,
   "metadata": {},
   "outputs": [
    {
     "data": {
      "text/html": [
       "<div>\n",
       "<style scoped>\n",
       "    .dataframe tbody tr th:only-of-type {\n",
       "        vertical-align: middle;\n",
       "    }\n",
       "\n",
       "    .dataframe tbody tr th {\n",
       "        vertical-align: top;\n",
       "    }\n",
       "\n",
       "    .dataframe thead th {\n",
       "        text-align: right;\n",
       "    }\n",
       "</style>\n",
       "<table border=\"1\" class=\"dataframe\">\n",
       "  <thead>\n",
       "    <tr style=\"text-align: right;\">\n",
       "      <th></th>\n",
       "      <th>Position</th>\n",
       "      <th>Height</th>\n",
       "      <th>Width</th>\n",
       "      <th>Time</th>\n",
       "    </tr>\n",
       "  </thead>\n",
       "  <tbody>\n",
       "    <tr>\n",
       "      <th>count</th>\n",
       "      <td>500.000000</td>\n",
       "      <td>500.000000</td>\n",
       "      <td>500.0</td>\n",
       "      <td>500.000000</td>\n",
       "    </tr>\n",
       "    <tr>\n",
       "      <th>mean</th>\n",
       "      <td>1074.750000</td>\n",
       "      <td>0.059894</td>\n",
       "      <td>100.0</td>\n",
       "      <td>249.500000</td>\n",
       "    </tr>\n",
       "    <tr>\n",
       "      <th>std</th>\n",
       "      <td>72.240916</td>\n",
       "      <td>0.074254</td>\n",
       "      <td>0.0</td>\n",
       "      <td>144.481833</td>\n",
       "    </tr>\n",
       "    <tr>\n",
       "      <th>min</th>\n",
       "      <td>950.000000</td>\n",
       "      <td>0.002042</td>\n",
       "      <td>100.0</td>\n",
       "      <td>0.000000</td>\n",
       "    </tr>\n",
       "    <tr>\n",
       "      <th>25%</th>\n",
       "      <td>1012.375000</td>\n",
       "      <td>0.007109</td>\n",
       "      <td>100.0</td>\n",
       "      <td>124.750000</td>\n",
       "    </tr>\n",
       "    <tr>\n",
       "      <th>50%</th>\n",
       "      <td>1074.750000</td>\n",
       "      <td>0.024749</td>\n",
       "      <td>100.0</td>\n",
       "      <td>249.500000</td>\n",
       "    </tr>\n",
       "    <tr>\n",
       "      <th>75%</th>\n",
       "      <td>1137.125000</td>\n",
       "      <td>0.086167</td>\n",
       "      <td>100.0</td>\n",
       "      <td>374.250000</td>\n",
       "    </tr>\n",
       "    <tr>\n",
       "      <th>max</th>\n",
       "      <td>1199.500000</td>\n",
       "      <td>0.300000</td>\n",
       "      <td>100.0</td>\n",
       "      <td>499.000000</td>\n",
       "    </tr>\n",
       "  </tbody>\n",
       "</table>\n",
       "</div>"
      ],
      "text/plain": [
       "          Position      Height  Width        Time\n",
       "count   500.000000  500.000000  500.0  500.000000\n",
       "mean   1074.750000    0.059894  100.0  249.500000\n",
       "std      72.240916    0.074254    0.0  144.481833\n",
       "min     950.000000    0.002042  100.0    0.000000\n",
       "25%    1012.375000    0.007109  100.0  124.750000\n",
       "50%    1074.750000    0.024749  100.0  249.500000\n",
       "75%    1137.125000    0.086167  100.0  374.250000\n",
       "max    1199.500000    0.300000  100.0  499.000000"
      ]
     },
     "execution_count": 7,
     "metadata": {},
     "output_type": "execute_result"
    }
   ],
   "source": [
    "peak1_dist_df = pd.DataFrame(peak1_dist, columns=['Position', 'Height', 'Width', 'Time'])\n",
    "peak1_dist_df.describe()"
   ]
  },
  {
   "cell_type": "code",
   "execution_count": 8,
   "metadata": {},
   "outputs": [
    {
     "data": {
      "text/html": [
       "<div>\n",
       "<style scoped>\n",
       "    .dataframe tbody tr th:only-of-type {\n",
       "        vertical-align: middle;\n",
       "    }\n",
       "\n",
       "    .dataframe tbody tr th {\n",
       "        vertical-align: top;\n",
       "    }\n",
       "\n",
       "    .dataframe thead th {\n",
       "        text-align: right;\n",
       "    }\n",
       "</style>\n",
       "<table border=\"1\" class=\"dataframe\">\n",
       "  <thead>\n",
       "    <tr style=\"text-align: right;\">\n",
       "      <th></th>\n",
       "      <th>Position</th>\n",
       "      <th>Height</th>\n",
       "      <th>Width</th>\n",
       "      <th>Time</th>\n",
       "    </tr>\n",
       "  </thead>\n",
       "  <tbody>\n",
       "    <tr>\n",
       "      <th>count</th>\n",
       "      <td>500.000000</td>\n",
       "      <td>500.000000</td>\n",
       "      <td>500.0</td>\n",
       "      <td>500.000000</td>\n",
       "    </tr>\n",
       "    <tr>\n",
       "      <th>mean</th>\n",
       "      <td>1250.100000</td>\n",
       "      <td>0.368085</td>\n",
       "      <td>50.0</td>\n",
       "      <td>249.500000</td>\n",
       "    </tr>\n",
       "    <tr>\n",
       "      <th>std</th>\n",
       "      <td>28.896367</td>\n",
       "      <td>0.253554</td>\n",
       "      <td>0.0</td>\n",
       "      <td>144.481833</td>\n",
       "    </tr>\n",
       "    <tr>\n",
       "      <th>min</th>\n",
       "      <td>1200.200000</td>\n",
       "      <td>0.082496</td>\n",
       "      <td>50.0</td>\n",
       "      <td>0.000000</td>\n",
       "    </tr>\n",
       "    <tr>\n",
       "      <th>25%</th>\n",
       "      <td>1225.150000</td>\n",
       "      <td>0.153931</td>\n",
       "      <td>50.0</td>\n",
       "      <td>124.750000</td>\n",
       "    </tr>\n",
       "    <tr>\n",
       "      <th>50%</th>\n",
       "      <td>1250.100000</td>\n",
       "      <td>0.287223</td>\n",
       "      <td>50.0</td>\n",
       "      <td>249.500000</td>\n",
       "    </tr>\n",
       "    <tr>\n",
       "      <th>75%</th>\n",
       "      <td>1275.050000</td>\n",
       "      <td>0.535932</td>\n",
       "      <td>50.0</td>\n",
       "      <td>374.250000</td>\n",
       "    </tr>\n",
       "    <tr>\n",
       "      <th>max</th>\n",
       "      <td>1300.000000</td>\n",
       "      <td>1.000000</td>\n",
       "      <td>50.0</td>\n",
       "      <td>499.000000</td>\n",
       "    </tr>\n",
       "  </tbody>\n",
       "</table>\n",
       "</div>"
      ],
      "text/plain": [
       "          Position      Height  Width        Time\n",
       "count   500.000000  500.000000  500.0  500.000000\n",
       "mean   1250.100000    0.368085   50.0  249.500000\n",
       "std      28.896367    0.253554    0.0  144.481833\n",
       "min    1200.200000    0.082496   50.0    0.000000\n",
       "25%    1225.150000    0.153931   50.0  124.750000\n",
       "50%    1250.100000    0.287223   50.0  249.500000\n",
       "75%    1275.050000    0.535932   50.0  374.250000\n",
       "max    1300.000000    1.000000   50.0  499.000000"
      ]
     },
     "execution_count": 8,
     "metadata": {},
     "output_type": "execute_result"
    }
   ],
   "source": [
    "peak2_dist_df = pd.DataFrame(peak2_dist, columns=['Position', 'Height', 'Width', 'Time'])\n",
    "peak2_dist_df.describe()"
   ]
  },
  {
   "cell_type": "code",
   "execution_count": 9,
   "metadata": {},
   "outputs": [
    {
     "data": {
      "image/png": "[encoded data removed]",
      "text/plain": [
       "<Figure size 432x288 with 1 Axes>"
      ]
     },
     "metadata": {},
     "output_type": "display_data"
    }
   ],
   "source": [
    "plt.plot(peak1_dist_df['Time'], peak1_dist_df['Height'], 'o', markersize = 2, label = 'Peak 1')\n",
    "plt.plot(peak2_dist_df['Time'], peak2_dist_df['Height'], 'o', markersize = 2, label = 'Peak 2')\n",
    "plt.title('Decay of Identified Peaks')\n",
    "plt.xlabel('Time')\n",
    "plt.ylabel('Intensity')\n",
    "plt.legend()\n",
    "plt.show()"
   ]
  },
  {
   "cell_type": "code",
   "execution_count": 10,
   "metadata": {},
   "outputs": [
    {
     "data": {
      "image/png": "[encoded data removed]",
      "text/plain": [
       "<Figure size 432x288 with 1 Axes>"
      ]
     },
     "metadata": {},
     "output_type": "display_data"
    }
   ],
   "source": [
    "plt.plot(peak1_dist_df['Time'], peak1_dist_df['Position'], 'o', markersize = 2, label = 'Peak 1')\n",
    "plt.plot(peak2_dist_df['Time'], peak2_dist_df['Position'], 'o', markersize = 2, label = 'Peak 2')\n",
    "plt.title('Shift of Identified Peaks')\n",
    "plt.xlabel('Time')\n",
    "plt.ylabel('Wavelength $(nm)$')\n",
    "plt.legend()\n",
    "plt.show()"
   ]
  },
  {
   "cell_type": "code",
   "execution_count": 11,
   "metadata": {},
   "outputs": [],
   "source": [
    "def find_nearest(array,value):\n",
    "    idx = (np.abs(array-value)).argmin()\n",
    "    return idx\n",
    "\n",
    "\n",
    "def loaddata(data_filename):\n",
    "    \"\"\"load matrix data\"\"\"\n",
    "    data = np.genfromtxt(data_filename, delimiter='\\t')\n",
    "    data_nm = data[1:,0]    #wavelength in nm\n",
    "    data_time = data[0,1:]\n",
    "    data_z = data[1:, 1:]\n",
    "\n",
    "    return data_nm, data_time, data_z\n",
    "\n",
    "\n",
    "def loaddata_timeslice(data_filename):\n",
    "    \"\"\"load array data\"\"\"\n",
    "    data = np.genfromtxt(data_filename, delimiter='\\t')\n",
    "    data_nm = data[:,0]    #wavelength in nm\n",
    "    data_z_array = data[:, 1]\n",
    "\n",
    "    return data_nm, data_z_array\n",
    "\n",
    "def twodcontourplot(tadata_nm, tadata_timedelay, tadata_z_corr):\n",
    "    \"\"\"\n",
    "    make contour plot\n",
    "    \n",
    "    Args:\n",
    "        tadata_nm: wavelength array\n",
    "        tadata_timedelay: time delay array\n",
    "        tadata_z_corr: matrix of z values\n",
    "        \n",
    "    \"\"\"\n",
    "    nm, timedelay = np.linspace(tadata_nm.min(), tadata_nm.max(), 100), np.linspace(tadata_timedelay.min(), tadata_timedelay.max(), 100)    \n",
    "    timedelayi, nmi = np.meshgrid(tadata_timedelay, tadata_nm)\n",
    "\n",
    "    #find the maximum and minimum\n",
    "    #these are used for color bar\n",
    "    z_min = np.amin(np.amin(tadata_z_corr, axis = 1))\n",
    "    z_max = np.amax(np.amax(tadata_z_corr, axis = 1))\n",
    "\n",
    "    \n",
    "    return [nmi, timedelayi, z_min, z_max]"
   ]
  },
  {
   "cell_type": "code",
   "execution_count": 12,
   "metadata": {},
   "outputs": [],
   "source": [
    "filename = '20180418_twogaussian_spectralshfit_together.txt'\n",
    "nm, time, z = loaddata(filename)"
   ]
  },
  {
   "cell_type": "code",
   "execution_count": 13,
   "metadata": {},
   "outputs": [
    {
     "data": {
      "text/plain": [
       "<Figure size 432x288 with 0 Axes>"
      ]
     },
     "execution_count": 13,
     "metadata": {},
     "output_type": "execute_result"
    },
    {
     "data": {
      "text/plain": [
       "<Figure size 432x288 with 0 Axes>"
      ]
     },
     "metadata": {},
     "output_type": "display_data"
    }
   ],
   "source": [
    "original_contour = twodcontourplot(nm, time, z)\n",
    "nm_contour, time_contour, min_contour, max_contour = original_contour[0], original_contour[1], original_contour[2], original_contour[3]\n",
    "\n",
    "plt.figure()"
   ]
  },
  {
   "cell_type": "code",
   "execution_count": null,
   "metadata": {},
   "outputs": [],
   "source": []
  }
 ],
 "metadata": {
  "kernelspec": {
   "display_name": "Python 3",
   "language": "python",
   "name": "python3"
  },
  "language_info": {
   "codemirror_mode": {
    "name": "ipython",
    "version": 3
   },
   "file_extension": ".py",
   "mimetype": "text/x-python",
   "name": "python",
   "nbconvert_exporter": "python",
   "pygments_lexer": "ipython3",
   "version": "3.6.4"
  }
 },
 "nbformat": 4,
 "nbformat_minor": 2
}
