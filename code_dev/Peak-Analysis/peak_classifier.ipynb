{
 "cells": [
  {
   "cell_type": "code",
   "execution_count": 1,
   "metadata": {},
   "outputs": [],
   "source": [
    "import matplotlib.pyplot as plt\n",
    "import numpy as np\n",
    "import pandas as pd\n",
    "from pandas import concat\n",
    "from scipy.spatial.distance import euclidean as dist"
   ]
  },
  {
   "cell_type": "code",
   "execution_count": 2,
   "metadata": {},
   "outputs": [
    {
     "data": {
      "text/html": [
       "<div>\n",
       "<style scoped>\n",
       "    .dataframe tbody tr th:only-of-type {\n",
       "        vertical-align: middle;\n",
       "    }\n",
       "\n",
       "    .dataframe tbody tr th {\n",
       "        vertical-align: top;\n",
       "    }\n",
       "\n",
       "    .dataframe thead th {\n",
       "        text-align: right;\n",
       "    }\n",
       "</style>\n",
       "<table border=\"1\" class=\"dataframe\">\n",
       "  <thead>\n",
       "    <tr style=\"text-align: right;\">\n",
       "      <th></th>\n",
       "      <th>position</th>\n",
       "      <th>height</th>\n",
       "      <th>width</th>\n",
       "      <th>time</th>\n",
       "    </tr>\n",
       "  </thead>\n",
       "  <tbody>\n",
       "    <tr>\n",
       "      <th>0</th>\n",
       "      <td>900.0</td>\n",
       "      <td>1.0</td>\n",
       "      <td>100.0</td>\n",
       "      <td>1</td>\n",
       "    </tr>\n",
       "    <tr>\n",
       "      <th>1</th>\n",
       "      <td>1200.0</td>\n",
       "      <td>0.5</td>\n",
       "      <td>150.0</td>\n",
       "      <td>1</td>\n",
       "    </tr>\n",
       "  </tbody>\n",
       "</table>\n",
       "</div>"
      ],
      "text/plain": [
       "   position  height  width  time\n",
       "0     900.0     1.0  100.0     1\n",
       "1    1200.0     0.5  150.0     1"
      ]
     },
     "execution_count": 2,
     "metadata": {},
     "output_type": "execute_result"
    }
   ],
   "source": [
    "slice_1 = pd.DataFrame({'position':[900.0, 1200.0], 'height':[1.0, 0.5], 'width':[100.0, 150.0], 'time':[1, 1]})\n",
    "slice_1 = slice_1[['position', 'height', 'width', 'time']]\n",
    "slice_1"
   ]
  },
  {
   "cell_type": "code",
   "execution_count": 3,
   "metadata": {},
   "outputs": [
    {
     "data": {
      "text/html": [
       "<div>\n",
       "<style scoped>\n",
       "    .dataframe tbody tr th:only-of-type {\n",
       "        vertical-align: middle;\n",
       "    }\n",
       "\n",
       "    .dataframe tbody tr th {\n",
       "        vertical-align: top;\n",
       "    }\n",
       "\n",
       "    .dataframe thead th {\n",
       "        text-align: right;\n",
       "    }\n",
       "</style>\n",
       "<table border=\"1\" class=\"dataframe\">\n",
       "  <thead>\n",
       "    <tr style=\"text-align: right;\">\n",
       "      <th></th>\n",
       "      <th>position</th>\n",
       "      <th>height</th>\n",
       "      <th>width</th>\n",
       "      <th>time</th>\n",
       "    </tr>\n",
       "  </thead>\n",
       "  <tbody>\n",
       "    <tr>\n",
       "      <th>0</th>\n",
       "      <td>900.0</td>\n",
       "      <td>0.6</td>\n",
       "      <td>100.0</td>\n",
       "      <td>5</td>\n",
       "    </tr>\n",
       "    <tr>\n",
       "      <th>1</th>\n",
       "      <td>1400.0</td>\n",
       "      <td>0.5</td>\n",
       "      <td>150.0</td>\n",
       "      <td>5</td>\n",
       "    </tr>\n",
       "  </tbody>\n",
       "</table>\n",
       "</div>"
      ],
      "text/plain": [
       "   position  height  width  time\n",
       "0     900.0     0.6  100.0     5\n",
       "1    1400.0     0.5  150.0     5"
      ]
     },
     "execution_count": 3,
     "metadata": {},
     "output_type": "execute_result"
    }
   ],
   "source": [
    "t2 = {'position':[900.0, 1250.0], 'height':[0.9, 0.5], 'width':[100.0, 150.0], 'time':[2, 2]}\n",
    "slice_2 = pd.DataFrame(t2)\n",
    "slice_2 = slice_2[['position', 'height', 'width', 'time']]\n",
    "\n",
    "t3 = {'position':[900.0, 1300.0], 'height':[0.8, 0.5], 'width':[100.0, 150.0], 'time':[3, 3]}\n",
    "slice_3 = pd.DataFrame(t3)\n",
    "slice_3 = slice_3[['position', 'height', 'width', 'time']]\n",
    "\n",
    "t4 = {'position':[900.0, 1350.0], 'height':[0.7, 0.5], 'width':[100.0, 150.0], 'time':[4, 4]}\n",
    "slice_4 = pd.DataFrame(t4)\n",
    "slice_4 = slice_4[['position', 'height', 'width', 'time']]\n",
    "\n",
    "t5 = {'position':[900.0, 1400.0], 'height':[0.6, 0.5], 'width':[100.0, 150.0], 'time':[5, 5]}\n",
    "slice_5 = pd.DataFrame(t5)\n",
    "slice_5 = slice_5[['position', 'height', 'width', 'time']]\n",
    "slice_5"
   ]
  },
  {
   "cell_type": "code",
   "execution_count": 5,
   "metadata": {},
   "outputs": [],
   "source": [
    "# Create a list for each peak, starting with the first time slice\n",
    "\"\"\"\n",
    "The number of lists here will be dependent on the number of peaks\n",
    "found in the first time slice. I will write a function to generate \n",
    "empty lists based on the input from peak fitting class.\n",
    "\n",
    "The accompaning dataframe is used to organize the data for visualization\n",
    "after sorting. These will also be generated by the function which makes\n",
    "the lists.\n",
    "\"\"\"\n",
    "peak1_dist = [slice_1.loc[0]]\n",
    "peak1_dist_df = pd.DataFrame()\n",
    "peak2_dist = [slice_1.loc[1]]\n",
    "peak2_dist_df = pd.DataFrame()\n",
    "\n",
    "# Calculate the 3D euclidean distance between data points\n",
    "# If the distance is small, that point is added to the previous peak's list\n",
    "\"\"\"\n",
    "Since we have 3 descriptors of our peaks - position, height, and width - we\n",
    "can 'plot' these peaks as a single point in a 3D space. By calculating the \n",
    "3D euclidean distance between two points, we can determine if they are 'similar'\n",
    "or close enough to be considered the same peak.\n",
    "\n",
    "If they are similar enough, or within a certaint distance threshold, we append\n",
    "that peak (and all of it's descriptors) to a list. This allows us to consolidate\n",
    "peaks and separate them from peaks that are likely to be other features.\n",
    "\"\"\"\n",
    "def euc_dist(df1, df2):\n",
    "    for i in range(len(df1)):\n",
    "        for j in range(len(df2)):\n",
    "            distance = dist(df1.loc[i][:-1], df2.loc[j][:-1])\n",
    "# Need to make these if, elif statements more generic\n",
    "            if ( i == 0 and distance <= 50 ):\n",
    "                peak1_dist.append(df2.loc[j])\n",
    "            elif ( i == 1 and distance <= 50):\n",
    "                peak2_dist.append(df2.loc[j])\n",
    "    return\n",
    "euc_dist(slice_1, slice_2)"
   ]
  },
  {
   "cell_type": "code",
   "execution_count": 6,
   "metadata": {},
   "outputs": [],
   "source": [
    "# Need to make wrapper function that runs 'euc_dist' across all time slices\n",
    "# Something along the lines of 'slice_m, slice_n' where n=m+1\n",
    "euc_dist(slice_2, slice_3)"
   ]
  },
  {
   "cell_type": "code",
   "execution_count": 7,
   "metadata": {},
   "outputs": [],
   "source": [
    "euc_dist(slice_3, slice_4)"
   ]
  },
  {
   "cell_type": "code",
   "execution_count": 8,
   "metadata": {},
   "outputs": [],
   "source": [
    "euc_dist(slice_4, slice_5)"
   ]
  },
  {
   "cell_type": "code",
   "execution_count": 9,
   "metadata": {},
   "outputs": [
    {
     "data": {
      "text/html": [
       "<div>\n",
       "<style scoped>\n",
       "    .dataframe tbody tr th:only-of-type {\n",
       "        vertical-align: middle;\n",
       "    }\n",
       "\n",
       "    .dataframe tbody tr th {\n",
       "        vertical-align: top;\n",
       "    }\n",
       "\n",
       "    .dataframe thead th {\n",
       "        text-align: right;\n",
       "    }\n",
       "</style>\n",
       "<table border=\"1\" class=\"dataframe\">\n",
       "  <thead>\n",
       "    <tr style=\"text-align: right;\">\n",
       "      <th></th>\n",
       "      <th>position</th>\n",
       "      <th>height</th>\n",
       "      <th>width</th>\n",
       "      <th>time</th>\n",
       "    </tr>\n",
       "  </thead>\n",
       "  <tbody>\n",
       "    <tr>\n",
       "      <th>0</th>\n",
       "      <td>900.0</td>\n",
       "      <td>1.0</td>\n",
       "      <td>100.0</td>\n",
       "      <td>1.0</td>\n",
       "    </tr>\n",
       "    <tr>\n",
       "      <th>0</th>\n",
       "      <td>900.0</td>\n",
       "      <td>0.9</td>\n",
       "      <td>100.0</td>\n",
       "      <td>2.0</td>\n",
       "    </tr>\n",
       "    <tr>\n",
       "      <th>0</th>\n",
       "      <td>900.0</td>\n",
       "      <td>0.8</td>\n",
       "      <td>100.0</td>\n",
       "      <td>3.0</td>\n",
       "    </tr>\n",
       "    <tr>\n",
       "      <th>0</th>\n",
       "      <td>900.0</td>\n",
       "      <td>0.7</td>\n",
       "      <td>100.0</td>\n",
       "      <td>4.0</td>\n",
       "    </tr>\n",
       "    <tr>\n",
       "      <th>0</th>\n",
       "      <td>900.0</td>\n",
       "      <td>0.6</td>\n",
       "      <td>100.0</td>\n",
       "      <td>5.0</td>\n",
       "    </tr>\n",
       "  </tbody>\n",
       "</table>\n",
       "</div>"
      ],
      "text/plain": [
       "   position  height  width  time\n",
       "0     900.0     1.0  100.0   1.0\n",
       "0     900.0     0.9  100.0   2.0\n",
       "0     900.0     0.8  100.0   3.0\n",
       "0     900.0     0.7  100.0   4.0\n",
       "0     900.0     0.6  100.0   5.0"
      ]
     },
     "execution_count": 9,
     "metadata": {},
     "output_type": "execute_result"
    }
   ],
   "source": [
    "# Tried to have this included in the euc_dist fucntion but pandas gave me trouble\n",
    "# Might need to stay separate, but I'll make it run automatically\n",
    "peak1 = pd.DataFrame(peak1_dist)\n",
    "peak1"
   ]
  },
  {
   "cell_type": "code",
   "execution_count": 14,
   "metadata": {},
   "outputs": [
    {
     "data": {
      "image/png": "[encoded data removed]",
      "text/plain": [
       "<matplotlib.figure.Figure at 0x7f77a9bb5c88>"
      ]
     },
     "metadata": {},
     "output_type": "display_data"
    }
   ],
   "source": [
    "# Need to have this generate automatically, similar to generating the dataframe\n",
    "# Need to have it fit the data with a decay and print that value/function\n",
    "plt.scatter(peak1['time'], peak1['height'])\n",
    "plt.xlabel('time')\n",
    "plt.ylabel('intensity')\n",
    "plt.show()"
   ]
  },
  {
   "cell_type": "code",
   "execution_count": 11,
   "metadata": {},
   "outputs": [
    {
     "data": {
      "text/html": [
       "<div>\n",
       "<style scoped>\n",
       "    .dataframe tbody tr th:only-of-type {\n",
       "        vertical-align: middle;\n",
       "    }\n",
       "\n",
       "    .dataframe tbody tr th {\n",
       "        vertical-align: top;\n",
       "    }\n",
       "\n",
       "    .dataframe thead th {\n",
       "        text-align: right;\n",
       "    }\n",
       "</style>\n",
       "<table border=\"1\" class=\"dataframe\">\n",
       "  <thead>\n",
       "    <tr style=\"text-align: right;\">\n",
       "      <th></th>\n",
       "      <th>position</th>\n",
       "      <th>height</th>\n",
       "      <th>width</th>\n",
       "      <th>time</th>\n",
       "    </tr>\n",
       "  </thead>\n",
       "  <tbody>\n",
       "    <tr>\n",
       "      <th>1</th>\n",
       "      <td>1200.0</td>\n",
       "      <td>0.5</td>\n",
       "      <td>150.0</td>\n",
       "      <td>1.0</td>\n",
       "    </tr>\n",
       "    <tr>\n",
       "      <th>1</th>\n",
       "      <td>1250.0</td>\n",
       "      <td>0.5</td>\n",
       "      <td>150.0</td>\n",
       "      <td>2.0</td>\n",
       "    </tr>\n",
       "    <tr>\n",
       "      <th>1</th>\n",
       "      <td>1300.0</td>\n",
       "      <td>0.5</td>\n",
       "      <td>150.0</td>\n",
       "      <td>3.0</td>\n",
       "    </tr>\n",
       "    <tr>\n",
       "      <th>1</th>\n",
       "      <td>1350.0</td>\n",
       "      <td>0.5</td>\n",
       "      <td>150.0</td>\n",
       "      <td>4.0</td>\n",
       "    </tr>\n",
       "    <tr>\n",
       "      <th>1</th>\n",
       "      <td>1400.0</td>\n",
       "      <td>0.5</td>\n",
       "      <td>150.0</td>\n",
       "      <td>5.0</td>\n",
       "    </tr>\n",
       "  </tbody>\n",
       "</table>\n",
       "</div>"
      ],
      "text/plain": [
       "   position  height  width  time\n",
       "1    1200.0     0.5  150.0   1.0\n",
       "1    1250.0     0.5  150.0   2.0\n",
       "1    1300.0     0.5  150.0   3.0\n",
       "1    1350.0     0.5  150.0   4.0\n",
       "1    1400.0     0.5  150.0   5.0"
      ]
     },
     "execution_count": 11,
     "metadata": {},
     "output_type": "execute_result"
    }
   ],
   "source": [
    "peak2 = pd.DataFrame(peak2_dist)\n",
    "peak2"
   ]
  },
  {
   "cell_type": "code",
   "execution_count": 13,
   "metadata": {},
   "outputs": [
    {
     "data": {
      "image/png": "[encoded data removed]",
      "text/plain": [
       "<matplotlib.figure.Figure at 0x7f77a9c3d128>"
      ]
     },
     "metadata": {},
     "output_type": "display_data"
    }
   ],
   "source": [
    "plt.scatter(peak2['time'], peak2['position'])\n",
    "plt.xlabel('time')\n",
    "plt.ylabel('position')\n",
    "plt.show()"
   ]
  },
  {
   "cell_type": "code",
   "execution_count": null,
   "metadata": {
    "scrolled": true
   },
   "outputs": [],
   "source": [
    "peak1_dist_df = pd.DataFrame({'position':[], 'height':[], 'width':[], 'time':[]})\n",
    "peak1_dist_df = peak1_dist_df[['position', 'height', 'width', 'time']]\n",
    "peak2_dist_df = pd.DataFrame({'position':[], 'height':[], 'width':[], 'time':[]})\n",
    "peak2_dist_df = peak2_dist_df[['position', 'height', 'width', 'time']]\n",
    "def euc_dist(df1, df2):\n",
    "    for i in range(len(df1)):\n",
    "        for j in range(len(df2)):\n",
    "            distance = dist(df1.loc[i][:-1], df2.loc[j][:-1])\n",
    "# Need to make these if, elif statements more generic\n",
    "            if ( i == 0 and distance <= 50 ):\n",
    "                pd.concat([peak1_dist_df, df1.loc[i], df2.loc[j]], ignore_index=True)\n",
    "            elif ( i == 1 and distance <= 50):\n",
    "                peak2_dist_df.append([df1.loc[i], df2.loc[j]], ignore_index=True)\n",
    "    return(peak1_dist_df, peak2_dist_df)"
   ]
  },
  {
   "cell_type": "code",
   "execution_count": null,
   "metadata": {},
   "outputs": [],
   "source": [
    "slice_1"
   ]
  },
  {
   "cell_type": "code",
   "execution_count": null,
   "metadata": {},
   "outputs": [],
   "source": [
    "slice_2"
   ]
  },
  {
   "cell_type": "code",
   "execution_count": null,
   "metadata": {},
   "outputs": [],
   "source": [
    "peak1_dist_df"
   ]
  },
  {
   "cell_type": "code",
   "execution_count": null,
   "metadata": {},
   "outputs": [],
   "source": [
    "test = []\n",
    "test.append('distance':[0])"
   ]
  },
  {
   "cell_type": "code",
   "execution_count": null,
   "metadata": {},
   "outputs": [],
   "source": [
    "peak1_dist"
   ]
  },
  {
   "cell_type": "code",
   "execution_count": null,
   "metadata": {},
   "outputs": [],
   "source": []
  }
 ],
 "metadata": {
  "kernelspec": {
   "display_name": "Python 3",
   "language": "python",
   "name": "python3"
  },
  "language_info": {
   "codemirror_mode": {
    "name": "ipython",
    "version": 3
   },
   "file_extension": ".py",
   "mimetype": "text/x-python",
   "name": "python",
   "nbconvert_exporter": "python",
   "pygments_lexer": "ipython3",
   "version": "3.6.4"
  }
 },
 "nbformat": 4,
 "nbformat_minor": 2
}
