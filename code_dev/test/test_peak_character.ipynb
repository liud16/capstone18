{
 "cells": [
  {
   "cell_type": "code",
   "execution_count": 4,
   "metadata": {},
   "outputs": [],
   "source": [
    "from peak_character import find_nearest\n",
    "#from peakaboo.peak_character import peakchar\n",
    "from peak_character import convert_to_nm\n",
    "from peak_character import peak_matrix\n",
    "import numpy as np\n",
    "import pandas as pd"
   ]
  },
  {
   "cell_type": "code",
   "execution_count": 5,
   "metadata": {},
   "outputs": [],
   "source": [
    "def find_nearest(array,value):\n",
    "    idx = (np.abs(array-value)).argmin()\n",
    "    return idx"
   ]
  },
  {
   "cell_type": "code",
   "execution_count": 6,
   "metadata": {},
   "outputs": [],
   "source": [
    "def test_find_nearest():\n",
    "    array = 'string'\n",
    "    value = 1\n",
    "    try:\n",
    "        find_nearest(array, value)\n",
    "    except TypeError:\n",
    "        pass\n",
    "    else:\n",
    "        print('TypeError not handled')"
   ]
  },
  {
   "cell_type": "code",
   "execution_count": 55,
   "metadata": {},
   "outputs": [],
   "source": [
    "test_find_nearest()"
   ]
  },
  {
   "cell_type": "code",
   "execution_count": 72,
   "metadata": {},
   "outputs": [],
   "source": [
    "def peakchar(data_nm, data_z_array, peak_index):\n",
    "    \"\"\"\n",
    "    find the peak height and width\n",
    "    \n",
    "    Args:\n",
    "        data_nm: wavelength array, numpy array\n",
    "        data_z_array: data array\n",
    "        peak_index: index of the peaks identified\n",
    "    \n",
    "    Returns:\n",
    "        height: peak intensity, numpy array\n",
    "        fwhm: widths pf peaks defined as full-width half-max, numpy array\n",
    "        \n",
    "    \"\"\"\n",
    "    num_peaks = len(peak_index)\n",
    "    \n",
    "    #array of peak height\n",
    "    height = [data_z_array[idx] for idx in peak_index]\n",
    "    \n",
    "    #array of peak width\n",
    "    half_height = [ht / 2 for ht in height]\n",
    "\n",
    "    fwhm_idx_1 = np.empty_like(half_height)\n",
    "    fwhm_idx_2 = np.empty_like(fwhm_idx_1)\n",
    "    fwhm_nm_1 = np.empty_like(fwhm_idx_1)\n",
    "    fwhm_nm_2 = np.empty_like(fwhm_idx_1)\n",
    "    \n",
    "    for i in range(num_peaks):\n",
    "        #find the index and nm corresponding to half of the peak intensity\n",
    "        #on the left side of the peak\n",
    "        if i == 0:\n",
    "            fwhm_idx_1[i] = find_nearest(data_z_array[0:peak_index[i]], half_height[i])\n",
    "        else:\n",
    "            fwhm_idx_1[i] = find_nearest(data_z_array[peak_index[i-1]:peak_index[i]], half_height[i]) + peak_index[i-1]\n",
    "\n",
    "        fwhm_nm_1[i] = data_nm[int(fwhm_idx_1[i])]\n",
    "        \n",
    "        #find the index and nm corresponding to half of the peak intensity\n",
    "        #on the right side of the peak   \n",
    "        fwhm_idx_2[i] = find_nearest(data_z_array[peak_index[i]:], half_height[i]) + peak_index[i]\n",
    "        fwhm_nm_2[i] = data_nm[int(fwhm_idx_2[i])]\n",
    "    \n",
    "    #calculate fwhm as the difference between the index/nm's on the left and\n",
    "    #right side of the peak\n",
    "    fwhm = fwhm_nm_2 - fwhm_nm_1\n",
    "\n",
    "    return height, fwhm"
   ]
  },
  {
   "cell_type": "code",
   "execution_count": 73,
   "metadata": {},
   "outputs": [],
   "source": [
    "import numpy as np\n",
    "def test_peakchar():\n",
    "    data_nm = 'string'\n",
    "    data_z = np.zeros((5, 5))\n",
    "    peak_idx = pd.DataFrame([[1, 2, 3], [1, 2, 3], \\\n",
    "                             [1, 2, 3], [1, 2, 3], \\\n",
    "                             [1, 2,3]])\n",
    "    try:\n",
    "        peakchar(data_nm, data_z, peak_idx)\n",
    "    except TypeError:\n",
    "        pass\n",
    "    else:\n",
    "        print('TypeError not handled', 'Check peak_finding output')\n",
    "        \n",
    "    data_nm = np.random.rand(144)\n",
    "    data_z = np.random.rand(144)\n",
    "    peak_idx = [5, 50]\n",
    "    height, fwhm = peakchar(data_nm, data_z, peak_idx)\n",
    "\n",
    "    if isinstance(height, list):\n",
    "        pass\n",
    "    else:\n",
    "        raise Exception('Bad type', 'Height is not np array')\n",
    "        \n",
    "    if isinstance(fwhm, np.ndarray):\n",
    "        pass\n",
    "    else:\n",
    "        raise Exception('Bad type', 'Fwhm is not np array')"
   ]
  },
  {
   "cell_type": "code",
   "execution_count": 74,
   "metadata": {
    "scrolled": true
   },
   "outputs": [],
   "source": [
    "test_peakchar()"
   ]
  },
  {
   "cell_type": "code",
   "execution_count": 84,
   "metadata": {},
   "outputs": [],
   "source": [
    "def indexes(y, thres=0.3, min_dist=1):\n",
    "    \"\"\"\n",
    "    Peak detection based on a gradient-method,\n",
    "    adapted from peakutils.indexes\n",
    "\n",
    "\n",
    "    Args:\n",
    "    y : 1D data array, numpy array\n",
    "    thres : lowest intensity to call a feature a peak,\n",
    "    float between 0. and 1.\n",
    "    min_dist : minimum distance between two peaks, int\n",
    "\n",
    "    Returns:\n",
    "    array of peak indices, numpy array\n",
    "\n",
    "    \"\"\"\n",
    "    y_raw = y\n",
    "    y = [abs(k) for k in y_raw]\n",
    "\n",
    "    if isinstance(y, np.ndarray) and np.issubdtype(\n",
    "            y.dtype, np.unsignedinteger):\n",
    "        raise ValueError(\"y must be signed\")\n",
    "    \n",
    "    assert type(thres) == 'float' or 'int', 'TypeError'\n",
    "    assert type(min_dist) == 'float' or 'int', 'TypeError'\n",
    "    \n",
    "    thres = thres * (np.max(y) - np.min(y)) + np.min(y)\n",
    "    min_dist = int(min_dist)\n",
    "    \n",
    "    \n",
    "    # compute first order difference\n",
    "    dy = np.diff(y)\n",
    "\n",
    "    # propagate left and right values successively to fill all plateau pixels\n",
    "    # (0-value)\n",
    "    zeros, = np.where(dy == 0)\n",
    "\n",
    "    # check if the singal is totally flat\n",
    "    if len(zeros) == len(y) - 1:\n",
    "        return np.array([])\n",
    "\n",
    "    while len(zeros):\n",
    "        # add pixels 2 by 2 to propagate left and right value onto the\n",
    "        # zero-value pixel\n",
    "        zerosr = np.hstack([dy[1:], 0.])\n",
    "        zerosl = np.hstack([0., dy[:-1]])\n",
    "\n",
    "        # replace 0 with right value if non zero\n",
    "        dy[zeros] = zerosr[zeros]\n",
    "        zeros, = np.where(dy == 0)\n",
    "\n",
    "        # replace 0 with left value if non zero\n",
    "        dy[zeros] = zerosl[zeros]\n",
    "        zeros, = np.where(dy == 0)\n",
    "\n",
    "    # find the peaks by using the first order difference\n",
    "    peaks = np.where((np.hstack([dy, 0.]) < 0.)\n",
    "                     & (np.hstack([0., dy]) > 0.)\n",
    "                     & (y > thres))[0]\n",
    "\n",
    "    # handle multiple peaks, respecting the minimum distance\n",
    "    if peaks.size > 1 and min_dist > 1:\n",
    "        highest = peaks[np.argsort(y[peaks])][::-1]\n",
    "        rem = np.ones(y.size, dtype=bool)\n",
    "        rem[peaks] = False\n",
    "\n",
    "        for peak in highest:\n",
    "            if not rem[peak]:\n",
    "                sl = slice(max(0, peak - min_dist), peak + min_dist + 1)\n",
    "                rem[sl] = True\n",
    "                rem[peak] = False\n",
    "\n",
    "        peaks = np.arange(y.size)[~rem]\n",
    "\n",
    "    return peaks"
   ]
  },
  {
   "cell_type": "code",
   "execution_count": 76,
   "metadata": {},
   "outputs": [],
   "source": [
    "def peak_matrix(nm_array, data_matrix, threshold, mindist):\n",
    "    \"\"\"\n",
    "    find peaks in a data matrix\n",
    "    and calculate the height and width of the peaks\n",
    "\n",
    "    Args:\n",
    "        nm_array: wavelength array\n",
    "        data_matrix: two-way matrix\n",
    "        threshold: threshold of normalized peak intensity to be identified\n",
    "            as a peak, float between 0. and 1.\n",
    "        mindist: minimum distance between two peaks, int\n",
    "\n",
    "    Returns:\n",
    "        three matrice that contains arrays of peak indices,\n",
    "        peak heights and peak fwhm of each time-slice\n",
    "\n",
    "    \"\"\"\n",
    "\n",
    "    peak_idx_matx = []\n",
    "    peak_height_matx = []\n",
    "    peak_fwhm_matx = []\n",
    "\n",
    "    num_timeslice = np.shape(data_matrix)[1]\n",
    "\n",
    "    for i in range(num_timeslice):\n",
    "        data_timeslice = data_matrix.values[:, i]\n",
    "\n",
    "        peak_idx = indexes(\n",
    "            data_timeslice, threshold, mindist).tolist()\n",
    "        peak_idx_matx.append(peak_idx)\n",
    "\n",
    "        peak_height, peak_fwhm = peakchar(nm_array, data_timeslice, peak_idx)\n",
    "\n",
    "        peak_height_matx.append(peak_height)\n",
    "        peak_fwhm_matx.append(peak_fwhm)\n",
    "\n",
    "        # convert index to nm\n",
    "        peak_idx_nm = peak_idx_matx\n",
    "        peak_fwhm_nm = peak_fwhm_matx\n",
    "\n",
    "        # transfer to dataframe\n",
    "        peak_idx_df = pd.DataFrame(peak_idx_nm)\n",
    "        peak_height_df = pd.DataFrame(peak_height_matx)\n",
    "        peak_fwhm_df = pd.DataFrame(peak_fwhm_nm)\n",
    "\n",
    "    return peak_idx_df, peak_height_df, peak_fwhm_df"
   ]
  },
  {
   "cell_type": "code",
   "execution_count": 90,
   "metadata": {},
   "outputs": [],
   "source": [
    "import numpy as np\n",
    "def test_peak_matrix():\n",
    "    import pandas as pd\n",
    "    data_nm = np.random.rand(144)\n",
    "    data_z = pd.DataFrame(np.random.rand(144, 700))\n",
    "    threshold = 'z'\n",
    "    mindist = 10\n",
    "    try:\n",
    "        peak_matrix(data_nm, data_z, threshold, mindist)\n",
    "    except TypeError:\n",
    "        pass\n",
    "    else:\n",
    "        print('TypeError not handled', 'Check threshold or mindist type')\n",
    "    \n",
    "    if isinstance(data_z, pd.core.frame.DataFrame):\n",
    "        pass\n",
    "    else:\n",
    "        raise Exception('TypeError', 'Check smoothing function output type')\n",
    "    return"
   ]
  },
  {
   "cell_type": "code",
   "execution_count": 91,
   "metadata": {},
   "outputs": [],
   "source": [
    "test_peak_matrix()"
   ]
  },
  {
   "cell_type": "code",
   "execution_count": 88,
   "metadata": {},
   "outputs": [],
   "source": [
    "data_z = pd.DataFrame(np.random.rand(144, 700))"
   ]
  },
  {
   "cell_type": "code",
   "execution_count": 89,
   "metadata": {},
   "outputs": [
    {
     "data": {
      "text/plain": [
       "pandas.core.frame.DataFrame"
      ]
     },
     "execution_count": 89,
     "metadata": {},
     "output_type": "execute_result"
    }
   ],
   "source": [
    "type(data_z)"
   ]
  },
  {
   "cell_type": "code",
   "execution_count": null,
   "metadata": {},
   "outputs": [],
   "source": []
  }
 ],
 "metadata": {
  "kernelspec": {
   "display_name": "Python 3",
   "language": "python",
   "name": "python3"
  },
  "language_info": {
   "codemirror_mode": {
    "name": "ipython",
    "version": 3
   },
   "file_extension": ".py",
   "mimetype": "text/x-python",
   "name": "python",
   "nbconvert_exporter": "python",
   "pygments_lexer": "ipython3",
   "version": "3.6.3"
  }
 },
 "nbformat": 4,
 "nbformat_minor": 2
}
