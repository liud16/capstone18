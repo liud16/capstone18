{
 "cells": [
  {
   "cell_type": "markdown",
   "metadata": {},
   "source": [
    "## Lit Review ##"
   ]
  },
  {
   "cell_type": "markdown",
   "metadata": {},
   "source": [
    "### Peak finding algorithms ###\n",
    "\n",
    "### *Parametric:* ###\n",
    "- hyperspy: \n",
    "    - http://hyperspy.org/hyperspy-doc/current/user_guide/model.html\n",
    "    - can use multiple defined functions\n",
    "- peakutils\n",
    "- lmfit\n",
    "\n",
    "\n",
    "### *Non-parametric:* ###\n",
    "- Multivariate adaptive regression spline\n",
    "    - the model is a weighted sum of basis function, which takes a constant, a hinge function, and a product of two or more hinge functions.    \n",
    "        - hinge function: max(0, x-constant)\n",
    "    - routine:\n",
    "        - forward pass: starts with just the y-intercept, adds basis function in pairs to the model, stops until sum-of-square residue error is too small or maximum # of basis functions is reached.\n",
    "        - backward pass: removes basis functions one by one, eletes the least effective term to correct for overfitting due to forward pass.\n",
    "    - fit the shape well but miss peak information\n",
    "    - more like smoothening\n",
    "    - package: py-earth, https://contrib.scikit-learn.org/py-earth/content.html\n",
    "\n",
    "- scipy.signal.find_peaks_cwt\n",
    "    - routine: \n",
    "        - convolves an array with a continuous wavelet transform\n",
    "        - find and filter the ridge lines to find maximum\n",
    "    - can find sharp peaks in noisy data"
   ]
  },
  {
   "cell_type": "markdown",
   "metadata": {},
   "source": [
    "## Deconvolution of two-way data ##"
   ]
  },
  {
   "cell_type": "markdown",
   "metadata": {},
   "source": [
    "*requires bilinearity of data*\n",
    "\n",
    "- Multivariate curve resolution\n",
    "- Factorial analysis, evolving factorial analysis (EFA)\n",
    "- Singular value decomposition (SVD)\n"
   ]
  },
  {
   "cell_type": "markdown",
   "metadata": {},
   "source": [
    "### Time correlation###"
   ]
  },
  {
   "cell_type": "markdown",
   "metadata": {},
   "source": [
    "- Dynamic Time Warping: measures similarity between two temporal sequences\n",
    "    - literautre reference: https://www.dropbox.com/home/Demi_Liu_DIRECT_project/ref?preview=dynamictimewarping.pdf\n",
    "    - package: https://github.com/slaypni/fastdtw\n",
    "    - generates a cost matrix for points along two curves, and calculates the distances, or off-sets, of points on those curves\n",
    "        - would still require thresholding on our part\n",
    "        - might not be able to handle peak A _and_ peak B in one comparison\n",
    "    - can handle peak off-sets within a provided range"
   ]
  },
  {
   "cell_type": "code",
   "execution_count": null,
   "metadata": {},
   "outputs": [],
   "source": []
  }
 ],
 "metadata": {
  "kernelspec": {
   "display_name": "Python 3",
   "language": "python",
   "name": "python3"
  },
  "language_info": {
   "codemirror_mode": {
    "name": "ipython",
    "version": 3
   },
   "file_extension": ".py",
   "mimetype": "text/x-python",
   "name": "python",
   "nbconvert_exporter": "python",
   "pygments_lexer": "ipython3",
   "version": "3.6.3"
  }
 },
 "nbformat": 4,
 "nbformat_minor": 2
}
