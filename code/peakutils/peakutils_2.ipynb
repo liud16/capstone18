{
 "cells": [
  {
   "cell_type": "code",
   "execution_count": 11,
   "metadata": {},
   "outputs": [],
   "source": [
    "import peakutils\n",
    "import numpy as np\n",
    "from peakutils.plot import plot as pplot\n",
    "import matplotlib.pyplot as plt"
   ]
  },
  {
   "cell_type": "code",
   "execution_count": 10,
   "metadata": {},
   "outputs": [],
   "source": [
    "def find_nearest(array,value):\n",
    "    idx = (np.abs(array-value)).argmin()\n",
    "    return idx\n",
    "\n",
    "\n",
    "def loaddata(data_filename):\n",
    "    data = np.genfromtxt(data_filename, delimiter='\\t')\n",
    "    data_nm = data[1:,0]    #wavelength in nm\n",
    "    data_time = data[0,1:]\n",
    "    data_z = data[1:, 1:]\n",
    "\n",
    "    return data_nm, data_time, data_z\n",
    "\n",
    "\n",
    "def loaddata_timeslice(data_filename):\n",
    "    data = np.genfromtxt(data_filename, delimiter='\\t')\n",
    "    data_nm = data[:,0]    #wavelength in nm\n",
    "    data_z_array = data[:, 1]\n",
    "\n",
    "    return data_nm, data_z_array\n",
    "\n",
    "\n",
    "def findpeak(data_z_array, threshold, min_dist):\n",
    "    \"\"\"find peaks and return indices of the peaks\"\"\"    \n",
    "    peak_indices = peakutils.indexes(data_z_array, thres=threshold, min_dist=min_dist)\n",
    "    \n",
    "    return peak_indices\n",
    "\n",
    "\n",
    "def peakchar(data_nm, data_z_array, peak_index):\n",
    "    \"\"\"find the peak width, and intensity\"\"\"\n",
    "    num_peaks = len(peak_index)\n",
    "    \n",
    "    #array of peak height\n",
    "    height = [data_z_array[idx] for idx in peak_index]\n",
    "    \n",
    "    #array of peak width\n",
    "    half_height = [ht / 2 for ht in height]\n",
    "\n",
    "    fwhm_idx_1 = np.empty_like(half_height)\n",
    "    fwhm_idx_2 = np.empty_like(fwhm_idx_1)\n",
    "    fwhm_nm_1 = np.empty_like(fwhm_idx_1)\n",
    "    fwhm_nm_2 = np.empty_like(fwhm_idx_1)\n",
    "    \n",
    "    for i in range(num_peaks):\n",
    "        #find the index and nmof the left side of the fwhm\n",
    "        if i == 0:\n",
    "            fwhm_idx_1[i] = find_nearest(data_z_array[0:peak_index[i]], half_height[i])\n",
    "        else:\n",
    "            fwhm_idx_1[i] = find_nearest(data_z_array[peak_index[i-1]:peak_index[i]], half_height[i]) + peak_index[i-1]\n",
    "\n",
    "        fwhm_nm_1[i] = data_nm[int(fwhm_idx_1[i])]\n",
    "        \n",
    "        #find the index and nm of the right side of the fwhm   \n",
    "        fwhm_idx_2[i] = find_nearest(data_z_array[peak_index[i]:], half_height[i]) + peak_index[i]\n",
    "\n",
    "        fwhm_nm_2[i] = data_nm[int(fwhm_idx_2[i])]\n",
    "    \n",
    "    #find fwhm\n",
    "    fwhm = fwhm_nm_2 - fwhm_nm_1\n",
    "\n",
    "    return height, fwhm"
   ]
  },
  {
   "cell_type": "code",
   "execution_count": 3,
   "metadata": {},
   "outputs": [],
   "source": [
    "filename = 'twogaussian_array.txt'\n",
    "nm, z = loaddata_timeslice(filename)"
   ]
  },
  {
   "cell_type": "code",
   "execution_count": 4,
   "metadata": {},
   "outputs": [
    {
     "data": {
      "text/plain": [
       "[<matplotlib.lines.Line2D at 0x151d74b2b0>]"
      ]
     },
     "execution_count": 4,
     "metadata": {},
     "output_type": "execute_result"
    },
    {
     "data": {
      "image/png": "[encoded data removed]",
      "text/plain": [
       "<matplotlib.figure.Figure at 0x11162c4a8>"
      ]
     },
     "metadata": {},
     "output_type": "display_data"
    }
   ],
   "source": [
    "plt.figure()\n",
    "plt.plot(nm, z)"
   ]
  },
  {
   "cell_type": "code",
   "execution_count": 5,
   "metadata": {},
   "outputs": [
    {
     "name": "stdout",
     "output_type": "stream",
     "text": [
      "[0.957, 0.274]\n",
      "[110. 240.]\n"
     ]
    }
   ],
   "source": [
    "peak_idx = findpeak(z, 0, 0)\n",
    "\n",
    "peak_height, peak_fwhm = peakchar(nm, z, peak_idx)\n",
    "\n",
    "\n",
    "print (peak_height)\n",
    "print (peak_fwhm)"
   ]
  },
  {
   "cell_type": "code",
   "execution_count": 12,
   "metadata": {},
   "outputs": [],
   "source": [
    "def peak_matrix(nm_array,data_matrix,num_timeslice, threshold, mindist):\n",
    "    \"\"\"find peaks in a data matrix\"\"\"\n",
    "    peak_idx_matx = np.zeros((num_timeslice,2))\n",
    "    peak_height_matx = np.empty_like(peak_idx_matx)\n",
    "    peak_fwhm_matx = np.empty_like(peak_height_matx)\n",
    "    \n",
    "    for i in range(num_timeslice):\n",
    "        data_timeslice = data_matrix[:, i]\n",
    "        \n",
    "        peak_idx = findpeak(data_timeslice, threshold, mindist)\n",
    "        \n",
    "        peak_idx_matx[i, :] = peak_idx\n",
    "        \n",
    "        peak_height, peak_fwhm = peakchar(nm, data_timeslice, peak_idx)\n",
    "        peak_height_matx[i, :], peak_fwhm_matx[i, :] = peak_height, peak_fwhm \n",
    "        \n",
    "    return peak_idx_matx, peak_height_matx, peak_fwhm_matx"
   ]
  },
  {
   "cell_type": "code",
   "execution_count": 13,
   "metadata": {},
   "outputs": [],
   "source": [
    "filename = '20180418_twogaussian_spectralshfit.txt'\n",
    "nm, time, z = loaddata(filename)\n",
    "num_timeslice = 3"
   ]
  },
  {
   "cell_type": "code",
   "execution_count": 14,
   "metadata": {},
   "outputs": [],
   "source": [
    "peak_idx_matx, peak_height_matx, peak_fwhm_matx = peak_matrix(nm,z,num_timeslice, 0, 0)"
   ]
  },
  {
   "cell_type": "code",
   "execution_count": 21,
   "metadata": {},
   "outputs": [
    {
     "data": {
      "image/png": "[encoded data removed]",
      "text/plain": [
       "<matplotlib.figure.Figure at 0x151f101550>"
      ]
     },
     "metadata": {},
     "output_type": "display_data"
    }
   ],
   "source": [
    "plt.figure()\n",
    "for i in range(num_timeslice):\n",
    "    #plt.plot(nm, z[:, 0:3])\n",
    "    pplot(nm, z[:, i], peak_idx_matx[i, :].astype('int64'))\n",
    "#pplot(x, m[:,i],peak[i,:].astype('int64'))"
   ]
  },
  {
   "cell_type": "code",
   "execution_count": 20,
   "metadata": {},
   "outputs": [
    {
     "name": "stdout",
     "output_type": "stream",
     "text": [
      "(3, 2)\n"
     ]
    }
   ],
   "source": []
  },
  {
   "cell_type": "code",
   "execution_count": null,
   "metadata": {},
   "outputs": [],
   "source": []
  }
 ],
 "metadata": {
  "kernelspec": {
   "display_name": "Python 3",
   "language": "python",
   "name": "python3"
  },
  "language_info": {
   "codemirror_mode": {
    "name": "ipython",
    "version": 3
   },
   "file_extension": ".py",
   "mimetype": "text/x-python",
   "name": "python",
   "nbconvert_exporter": "python",
   "pygments_lexer": "ipython3",
   "version": "3.6.3"
  }
 },
 "nbformat": 4,
 "nbformat_minor": 2
}
