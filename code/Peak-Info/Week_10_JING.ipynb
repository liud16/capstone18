{
 "cells": [
  {
   "cell_type": "code",
   "execution_count": 2,
   "metadata": {},
   "outputs": [],
   "source": [
    "# importing the libraries\n",
    "import numpy as np\n",
    "import peakutils\n",
    "#import syntheticdata\n",
    "\n",
    "\n",
    "from peakutils.plot import plot as pplot\n",
    "from matplotlib import pyplot as plt\n",
    "%matplotlib inline\n",
    "from scipy.optimize import curve_fit\n",
    "from scipy import interpolate\n",
    "\n",
    "import pandas as pd"
   ]
  },
  {
   "cell_type": "code",
   "execution_count": 401,
   "metadata": {},
   "outputs": [],
   "source": [
    "def find_nearest(array,value):\n",
    "    idx = (np.abs(array-value)).argmin()\n",
    "    return idx\n",
    "\n",
    "def loaddata(tadata_filename):\n",
    "    tadata = np.genfromtxt(tadata_filename, delimiter=',', skip_footer = 16)\n",
    "    tadata_z = tadata[1:,1:]\n",
    "    tadata_timedelay = tadata[0,1:]  #timedelay in ps\n",
    "    tadata_timedelay = np.nan_to_num(tadata_timedelay)\n",
    "    tadata_nm = tadata[1:,0]  #wavelength in nm\n",
    "    tadata_nm = np.nan_to_num(tadata_nm)\n",
    "    tadata_z_corr = np.empty((len(tadata_nm), len(tadata_timedelay)))\n",
    "    tadata_z_corr = np.nan_to_num(tadata_z)\n",
    "    \n",
    "    return tadata, tadata_timedelay, tadata_nm, tadata_z_corr\n",
    "\n",
    "def plot_peaks_lows_highs(x, highs, lows, algorithm=None, mph=None, mpd=None):\n",
    "    \"\"\"Plot results of the peak dectection.\"\"\"\n",
    "    \n",
    "    _, ax = plt.subplots(1, 1, figsize=(8, 4))\n",
    "    ax.plot(x, 'b', lw=1)\n",
    "    if highs.size:\n",
    "        label = 'high peak'\n",
    "        label = label + 's' if highs.size > 1 else label\n",
    "        ax.plot(highs, x[highs], '+', mfc=None, mec='r', mew=2, ms=8,\n",
    "                label='%d %s' % (highs.size, label))\n",
    "        ax.legend(loc='best', framealpha=.5, numpoints=1)\n",
    "    if lows.size:\n",
    "        label = 'low peak'\n",
    "        label = label + 's' if lows.size > 1 else label\n",
    "        ax.plot(lows, x[lows], '+', mfc=None, mec='g', mew=2, ms=8,\n",
    "                label='%d %s' % (lows.size, label))\n",
    "        ax.legend(loc='best', framealpha=.5, numpoints=1)\n",
    "    ax.set_xlim(-.02*x.size, x.size*1.02-1)\n",
    "    ymin, ymax = x[np.isfinite(x)].min(), x[np.isfinite(x)].max()\n",
    "    yrange = ymax - ymin if ymax > ymin else 1\n",
    "    ax.set_ylim(ymin - 0.1*yrange, ymax + 0.1*yrange)\n",
    "    ax.set_xlabel('Data #', fontsize=14)\n",
    "    ax.set_ylabel('Amplitude', fontsize=14)\n",
    "    ax.set_title('%s (mph=%s, mpd=%s)' % (algorithm, mph, mpd))\n",
    "    plt.show()\n",
    "    \n",
    "# load some data\n",
    "def loaddata(data_filename):\n",
    "    \"\"\"load matrix data\"\"\"\n",
    "    data = np.genfromtxt(data_filename, delimiter='\\t')\n",
    "    data_nm = data[1:,0]    #wavelength in nm\n",
    "    data_time = data[0,1:]\n",
    "    data_z = data[1:, 1:]\n",
    "\n",
    "    return data_nm, data_time, data_z\n",
    "\n",
    "# add noise\n",
    "def add_noise(nm_array, y_array, noise_coefficient):\n",
    "    # Add noise\n",
    "    np.random.seed(1800)\n",
    "    y_noise = noise_coefficient * np.random.normal(size=nm_array.size)\n",
    "    y_proc = y_array + y_noise\n",
    "    \n",
    "    return y_proc\n",
    "\n",
    "def earth_Smoothing(nm_array, y_array,noise_coefficient):        \n",
    "        \n",
    "    from pyearth import Earth\n",
    "   # Fit an Earth model\n",
    "    model = Earth(smooth=True)\n",
    "    np.random.seed(42)\n",
    "    ydata = y_array + noise_coefficient*np.random.normal(size=nm_array.size)\n",
    "    model.fit(nm_array, ydata)\n",
    "\n",
    "   # Print the model\n",
    "    #print(model.trace())\n",
    "    #print(model.summary())\n",
    "\n",
    "   # Get the predicted values and derivatives\n",
    "    y_hat = model.predict(nm_array)\n",
    "    \n",
    "    return  y_hat\n",
    "\n",
    "def findpeak_low(data_z_array, threshold, min_dist):\n",
    "    \"\"\"find peaks and return indices of the peaks\"\"\" \n",
    "    data_z_arrayInverted = data_z_array * -1\n",
    "    peak_indices = peakutils.indexes(data_z_arrayInverted, thres=threshold, min_dist=min_dist)\n",
    "    \n",
    "    return peak_indices\n",
    "\n",
    "\n",
    "def findpeak(data_z_array, threshold, min_dist):\n",
    "    \"\"\"find peaks and return indices of the peaks\"\"\" \n",
    "    peak_indices = peakutils.indexes(data_z_array, thres=threshold, min_dist=min_dist)\n",
    "    \n",
    "    return peak_indices\n",
    "\n",
    "def earth_smooth_matrix(nm_array,data_matrix,noise_coefficient):\n",
    "    num_array = np.shape(data_matrix)[1]\n",
    "    num_array1 = np.shape(data_matrix)[0]\n",
    "    \n",
    "    smooth_matx = pd.DataFrame(np.empty((num_array1,1)), columns = ['a'])\n",
    "    noise_matx = pd.DataFrame(np.empty((num_array1,1)), columns = ['a'])\n",
    "    \n",
    "    for i in range(num_array):\n",
    "        data_array = data_matrix[:, i]\n",
    "        \n",
    "        # get noise and smooth list\n",
    "        noise_array = add_noise(nm_array, data_array, noise_coefficient).tolist()\n",
    "        smooth_array =earth_Smoothing(nm_array,data_array,noise_coefficient).tolist()\n",
    "        \n",
    "        # get noise dataframe\n",
    "        DF = pd.DataFrame(noise_array,columns = [i])\n",
    "        noise_matx = noise_matx.join(DF)\n",
    "        \n",
    "        # get smooth dataframe\n",
    "        df = pd.DataFrame(smooth_array,columns = [i])\n",
    "        smooth_matx = smooth_matx.join(df)\n",
    "    \n",
    "    # drop the first columns\n",
    "    noise_matx = noise_matx.drop(columns='a')\n",
    "    smooth_matx = smooth_matx.drop(columns='a')\n",
    "\n",
    "    return noise_matx, smooth_matx\n",
    "\n",
    "def earth_high_peak_matrix(nm_array,data_matrix,noise_coefficient,threshold, min_dist):\n",
    "    num_array = np.shape(data_matrix)[1]\n",
    "    \n",
    "    true_peak = []\n",
    "    smooth_peak = []\n",
    "    \n",
    "    for i in range(num_array):\n",
    "        data_array = data_matrix[:, i]\n",
    "        noise_array = add_noise(nm_array, data_array, noise_coefficient)\n",
    "        smooth_array = earth_Smoothing(nm_array, data_array,noise_coefficient)\n",
    "        \n",
    "        indexes=findpeak(data_array, threshold, min_dist).tolist()\n",
    "        true_peak.append(indexes)\n",
    "        \n",
    "        indexes1=findpeak(smooth_array, threshold, min_dist).tolist()\n",
    "        smooth_peak.append(indexes1)\n",
    "                \n",
    "        # transfer to dataframe\n",
    "        true_df=pd.DataFrame(true_peak)\n",
    "        smooth_df=pd.DataFrame(smooth_peak).fillna(0)\n",
    "    \n",
    "    return true_df, smooth_df\n",
    "\n",
    "\n",
    "def earth_low_peak_matrix(nm_array,data_matrix,noise_coefficient,threshold, min_dist):\n",
    "    num_array = np.shape(data_matrix)[1]\n",
    "    \n",
    "    true_peak = []\n",
    "    smooth_peak = []\n",
    "    \n",
    "    for i in range(num_array):\n",
    "        data_array = data_matrix[:, i]\n",
    "        noise_array = add_noise(nm_array, data_array, noise_coefficient)\n",
    "        smooth_array = earth_Smoothing(nm_array, data_array,noise_coefficient)\n",
    "        \n",
    "        indexes=findpeak_low(data_array, threshold, min_dist).tolist()\n",
    "        true_peak.append(indexes)\n",
    "        \n",
    "        indexes1=findpeak_low(smooth_array, threshold, min_dist).tolist()\n",
    "        smooth_peak.append(indexes1)\n",
    "                \n",
    "        # transfer to dataframe\n",
    "        true_df=pd.DataFrame(true_peak)\n",
    "        smooth_df=pd.DataFrame(smooth_peak).fillna(0)\n",
    "    \n",
    "    return true_df, smooth_df\n",
    "\n"
   ]
  },
  {
   "cell_type": "code",
   "execution_count": 267,
   "metadata": {},
   "outputs": [],
   "source": [
    "def id_outliers_replacewith_interp(x_array, data, m, win_len):\n",
    "    reshape_x_array = []\n",
    "    reshape_data = []\n",
    "    quotient_array = np.empty(len(data))\n",
    "    remainder_array = np.empty(len(data))\n",
    "    quotient_array[0] = 0\n",
    "    remainder_array[0] = 0  \n",
    "    #print divmod(len(data), win_len)   \n",
    "    quotient_max = divmod(len(data), win_len)[0]\n",
    "    print (quotient_max)\n",
    "    #quotient_array_new = []\n",
    "    data_idx = np.arange(0, len(data), 1)\n",
    "    for i in range(1, len(data_idx)):\n",
    "        \n",
    "        quotient = divmod(data_idx[i], win_len)[0]\n",
    "        quotient_array[i] = quotient\n",
    "        remainder = divmod(data_idx[i], win_len)[1]\n",
    "        remainder_array[i] = remainder\n",
    "        \n",
    "        if quotient != quotient_array[i-1]:\n",
    "            newslice = data[i - win_len: i]\n",
    "            newslice_x = x_array[i - win_len: i]\n",
    "            #print newslice\n",
    "            reshape_data.append(newslice)\n",
    "            reshape_x_array.append(newslice_x)\n",
    "    \n",
    "        else:\n",
    "            pass\n",
    "    quotient_max_idx = np.where(quotient_array == quotient_max)\n",
    "    #print quotient_max_idx\n",
    "    reshape_data.append(data[quotient_max_idx[0]])\n",
    "    reshape_x_array.append(x_array[quotient_max_idx[0]])\n",
    "    #print reshape_data\n",
    "    reshape_data_shape = np.shape(reshape_data)[0]\n",
    "    #print reshape_data_shape\n",
    "    def id_outliers_and_delete(d,x, m):\n",
    "        d_mean = np.mean(d)  \n",
    "        d_stdev = np.std(d)\n",
    "        new_d = np.empty_like(d)    \n",
    "        \n",
    "        for i in range(len(d)):\n",
    "            d_pt = d[i]\n",
    "          \n",
    "            if abs(d_pt - d_mean) > m * d_stdev and x[i] != x_array[0] and x[i] != x_array[len(x_array) - 1]:\n",
    "                new_d[i] = 1\n",
    "            else:\n",
    "                new_d[i] = 0\n",
    "    \n",
    "        outlier_idx = np.nonzero(new_d)[0]\n",
    "        d_delete = np.delete(d, outlier_idx)\n",
    "        x_delete = np.delete(x, outlier_idx)\n",
    "        \n",
    "        #print data2[outlier_idx]\n",
    "        return x_delete, d_delete\n",
    "    \n",
    "    new_x_array = []\n",
    "    new_data = []\n",
    "    for i in range(reshape_data_shape):\n",
    "        new_data.append(id_outliers_and_delete(reshape_data[i],reshape_x_array[i], 1)[1])#(id_outliers_replacewith_mean(reshape_data[i], m))\n",
    "        new_x_array.append(id_outliers_and_delete(reshape_data[i],reshape_x_array[i],1)[0])\n",
    "    new_data_flat = np.concatenate(new_data[:-1]).ravel().tolist()#.flatten()\n",
    "    new_x_array_flat = np.concatenate(new_x_array[:-1]).ravel().tolist()#.flatten()\n",
    "    new_data_final = np.concatenate((new_data_flat, new_data[reshape_data_shape - 1]))\n",
    "    new_x_array_final = np.concatenate((new_x_array_flat, new_x_array[reshape_data_shape - 1]))\n",
    "    \n",
    "    new_data_final_interp = np.interp(x_array, new_x_array_final, new_data_final)    \n",
    "    return new_data_final_interp"
   ]
  },
  {
   "cell_type": "code",
   "execution_count": 255,
   "metadata": {
    "scrolled": false
   },
   "outputs": [
    {
     "name": "stderr",
     "output_type": "stream",
     "text": [
      "/Users/tutu/miniconda3/lib/python3.6/site-packages/pyearth/earth.py:802: FutureWarning: `rcond` parameter will change to the default of machine precision times ``max(M, N)`` where M and N are the input matrix dimensions.\n",
      "To use the future default and silence this warning we advise to pass `rcond=None`, to keep using the old, explicitly pass `rcond=-1`.\n",
      "  pruning_passer.run()\n",
      "/Users/tutu/miniconda3/lib/python3.6/site-packages/pyearth/earth.py:1055: FutureWarning: `rcond` parameter will change to the default of machine precision times ``max(M, N)`` where M and N are the input matrix dimensions.\n",
      "To use the future default and silence this warning we advise to pass `rcond=None`, to keep using the old, explicitly pass `rcond=-1`.\n",
      "  coef, resid = np.linalg.lstsq(B, weighted_y[:, i])[0:2]\n"
     ]
    }
   ],
   "source": [
    "noisez_matx, smooth_matx = earth_smooth_matrix(datanm,dataz_matx,0.1)"
   ]
  },
  {
   "cell_type": "code",
   "execution_count": 173,
   "metadata": {},
   "outputs": [],
   "source": [
    "matx_filename = '20180418_twogaussian_spectralshfit.txt'\n",
    "datanm, datatime, dataz_matx = loaddata(matx_filename)"
   ]
  },
  {
   "cell_type": "code",
   "execution_count": 259,
   "metadata": {},
   "outputs": [
    {
     "name": "stderr",
     "output_type": "stream",
     "text": [
      "/Users/tutu/miniconda3/lib/python3.6/site-packages/pyearth/earth.py:802: FutureWarning: `rcond` parameter will change to the default of machine precision times ``max(M, N)`` where M and N are the input matrix dimensions.\n",
      "To use the future default and silence this warning we advise to pass `rcond=None`, to keep using the old, explicitly pass `rcond=-1`.\n",
      "  pruning_passer.run()\n",
      "/Users/tutu/miniconda3/lib/python3.6/site-packages/pyearth/earth.py:1055: FutureWarning: `rcond` parameter will change to the default of machine precision times ``max(M, N)`` where M and N are the input matrix dimensions.\n",
      "To use the future default and silence this warning we advise to pass `rcond=None`, to keep using the old, explicitly pass `rcond=-1`.\n",
      "  coef, resid = np.linalg.lstsq(B, weighted_y[:, i])[0:2]\n"
     ]
    }
   ],
   "source": [
    "true_low_df, smooth_low_df = earth_low_peak_matrix(datanm, dataz_matx, 0.1, 0, 150)"
   ]
  },
  {
   "cell_type": "code",
   "execution_count": 402,
   "metadata": {
    "scrolled": true
   },
   "outputs": [
    {
     "name": "stderr",
     "output_type": "stream",
     "text": [
      "/Users/tutu/miniconda3/lib/python3.6/site-packages/pyearth/earth.py:802: FutureWarning: `rcond` parameter will change to the default of machine precision times ``max(M, N)`` where M and N are the input matrix dimensions.\n",
      "To use the future default and silence this warning we advise to pass `rcond=None`, to keep using the old, explicitly pass `rcond=-1`.\n",
      "  pruning_passer.run()\n",
      "/Users/tutu/miniconda3/lib/python3.6/site-packages/pyearth/earth.py:1055: FutureWarning: `rcond` parameter will change to the default of machine precision times ``max(M, N)`` where M and N are the input matrix dimensions.\n",
      "To use the future default and silence this warning we advise to pass `rcond=None`, to keep using the old, explicitly pass `rcond=-1`.\n",
      "  coef, resid = np.linalg.lstsq(B, weighted_y[:, i])[0:2]\n"
     ]
    }
   ],
   "source": [
    "## get the peak position dataframe of true data set\n",
    "true_high_df, smooth_high_df = earth_high_peak_matrix(datanm, dataz_matx, 0.1, 0, 150)"
   ]
  },
  {
   "cell_type": "markdown",
   "metadata": {},
   "source": [
    "* high peak position changes"
   ]
  },
  {
   "cell_type": "markdown",
   "metadata": {},
   "source": [
    "# High peak changes"
   ]
  },
  {
   "cell_type": "markdown",
   "metadata": {},
   "source": [
    "* true peak"
   ]
  },
  {
   "cell_type": "code",
   "execution_count": 265,
   "metadata": {},
   "outputs": [
    {
     "data": {
      "image/png": "[encoded data removed]",
      "text/plain": [
       "<Figure size 432x288 with 1 Axes>"
      ]
     },
     "metadata": {},
     "output_type": "display_data"
    }
   ],
   "source": [
    "plt.figure()\n",
    "for i in range(dataz_matx.shape[1]):\n",
    "    plt.title('High Peak changes', fontsize = 16, fontweight = 'bold')\n",
    "    plt.xlabel('x index ', fontsize = 16, fontweight = 'bold')\n",
    "    plt.ylabel('Peak index', fontsize = 16, fontweight = 'bold')\n",
    "    plt.plot(true_high_df.iloc[i,:].values,'o', color='black')"
   ]
  },
  {
   "cell_type": "markdown",
   "metadata": {},
   "source": [
    "* smooth peak"
   ]
  },
  {
   "cell_type": "code",
   "execution_count": 264,
   "metadata": {
    "scrolled": true
   },
   "outputs": [
    {
     "data": {
      "image/png": "[encoded data removed]",
      "text/plain": [
       "<Figure size 432x288 with 1 Axes>"
      ]
     },
     "metadata": {},
     "output_type": "display_data"
    }
   ],
   "source": [
    "plt.figure()\n",
    "for i in range(dataz_matx.shape[1]):\n",
    "    plt.title('High Peak changes', fontsize = 16, fontweight = 'bold')\n",
    "    plt.xlabel('x index ', fontsize = 16, fontweight = 'bold')\n",
    "    plt.ylabel('Peak index', fontsize = 16, fontweight = 'bold')\n",
    "    plt.plot(smooth_high_df.iloc[i,:].values,'o', color='black')"
   ]
  },
  {
   "cell_type": "code",
   "execution_count": 346,
   "metadata": {},
   "outputs": [
    {
     "data": {
      "text/html": [
       "<div>\n",
       "<style scoped>\n",
       "    .dataframe tbody tr th:only-of-type {\n",
       "        vertical-align: middle;\n",
       "    }\n",
       "\n",
       "    .dataframe tbody tr th {\n",
       "        vertical-align: top;\n",
       "    }\n",
       "\n",
       "    .dataframe thead th {\n",
       "        text-align: right;\n",
       "    }\n",
       "</style>\n",
       "<table border=\"1\" class=\"dataframe\">\n",
       "  <thead>\n",
       "    <tr style=\"text-align: right;\">\n",
       "      <th></th>\n",
       "      <th>0</th>\n",
       "      <th>1</th>\n",
       "      <th>2</th>\n",
       "    </tr>\n",
       "  </thead>\n",
       "  <tbody>\n",
       "    <tr>\n",
       "      <th>0</th>\n",
       "      <td>50</td>\n",
       "      <td>402.0</td>\n",
       "      <td>0.0</td>\n",
       "    </tr>\n",
       "    <tr>\n",
       "      <th>1</th>\n",
       "      <td>54</td>\n",
       "      <td>394.0</td>\n",
       "      <td>0.0</td>\n",
       "    </tr>\n",
       "    <tr>\n",
       "      <th>2</th>\n",
       "      <td>54</td>\n",
       "      <td>394.0</td>\n",
       "      <td>0.0</td>\n",
       "    </tr>\n",
       "    <tr>\n",
       "      <th>3</th>\n",
       "      <td>54</td>\n",
       "      <td>394.0</td>\n",
       "      <td>0.0</td>\n",
       "    </tr>\n",
       "    <tr>\n",
       "      <th>4</th>\n",
       "      <td>54</td>\n",
       "      <td>394.0</td>\n",
       "      <td>0.0</td>\n",
       "    </tr>\n",
       "  </tbody>\n",
       "</table>\n",
       "</div>"
      ],
      "text/plain": [
       "    0      1    2\n",
       "0  50  402.0  0.0\n",
       "1  54  394.0  0.0\n",
       "2  54  394.0  0.0\n",
       "3  54  394.0  0.0\n",
       "4  54  394.0  0.0"
      ]
     },
     "execution_count": 346,
     "metadata": {},
     "output_type": "execute_result"
    }
   ],
   "source": [
    "smooth_high_df[0:5]"
   ]
  },
  {
   "cell_type": "markdown",
   "metadata": {},
   "source": [
    "* low peak position changes"
   ]
  },
  {
   "cell_type": "markdown",
   "metadata": {},
   "source": [
    "# Low peak changes"
   ]
  },
  {
   "cell_type": "markdown",
   "metadata": {},
   "source": [
    "* true peak"
   ]
  },
  {
   "cell_type": "code",
   "execution_count": 151,
   "metadata": {
    "scrolled": true
   },
   "outputs": [
    {
     "data": {
      "image/png": "[encoded data removed]",
      "text/plain": [
       "<Figure size 432x288 with 1 Axes>"
      ]
     },
     "metadata": {},
     "output_type": "display_data"
    }
   ],
   "source": [
    "plt.figure()\n",
    "for i in range(300):\n",
    "    plt.title('Low Peak changes', fontsize = 16, fontweight = 'bold')\n",
    "    plt.xlabel('x index ', fontsize = 16, fontweight = 'bold')\n",
    "    plt.ylabel('Peak index', fontsize = 16, fontweight = 'bold')\n",
    "    plt.plot(true_low_df.iloc[i,:].values,'o', color='black')"
   ]
  },
  {
   "cell_type": "markdown",
   "metadata": {},
   "source": [
    "* low peak"
   ]
  },
  {
   "cell_type": "code",
   "execution_count": 150,
   "metadata": {
    "scrolled": false
   },
   "outputs": [
    {
     "data": {
      "image/png": "[encoded data removed]",
      "text/plain": [
       "<Figure size 432x288 with 1 Axes>"
      ]
     },
     "metadata": {},
     "output_type": "display_data"
    }
   ],
   "source": [
    "plt.figure()\n",
    "for i in range(dataz_matx.shape[1]):\n",
    "    plt.title('Low Peak changes', fontsize = 16, fontweight = 'bold')\n",
    "    plt.xlabel('x index ', fontsize = 16, fontweight = 'bold')\n",
    "    plt.ylabel('Peak index', fontsize = 16, fontweight = 'bold')\n",
    "    plt.plot(smooth_low_df.iloc[i,:].values,'o', color='black')"
   ]
  },
  {
   "cell_type": "code",
   "execution_count": 349,
   "metadata": {},
   "outputs": [
    {
     "data": {
      "text/html": [
       "<div>\n",
       "<style scoped>\n",
       "    .dataframe tbody tr th:only-of-type {\n",
       "        vertical-align: middle;\n",
       "    }\n",
       "\n",
       "    .dataframe tbody tr th {\n",
       "        vertical-align: top;\n",
       "    }\n",
       "\n",
       "    .dataframe thead th {\n",
       "        text-align: right;\n",
       "    }\n",
       "</style>\n",
       "<table border=\"1\" class=\"dataframe\">\n",
       "  <thead>\n",
       "    <tr style=\"text-align: right;\">\n",
       "      <th></th>\n",
       "      <th>0</th>\n",
       "      <th>1</th>\n",
       "      <th>2</th>\n",
       "    </tr>\n",
       "  </thead>\n",
       "  <tbody>\n",
       "    <tr>\n",
       "      <th>0</th>\n",
       "      <td>207.0</td>\n",
       "      <td>0.0</td>\n",
       "      <td>0.0</td>\n",
       "    </tr>\n",
       "    <tr>\n",
       "      <th>1</th>\n",
       "      <td>219.0</td>\n",
       "      <td>0.0</td>\n",
       "      <td>0.0</td>\n",
       "    </tr>\n",
       "    <tr>\n",
       "      <th>2</th>\n",
       "      <td>219.0</td>\n",
       "      <td>0.0</td>\n",
       "      <td>0.0</td>\n",
       "    </tr>\n",
       "    <tr>\n",
       "      <th>3</th>\n",
       "      <td>220.0</td>\n",
       "      <td>0.0</td>\n",
       "      <td>0.0</td>\n",
       "    </tr>\n",
       "    <tr>\n",
       "      <th>4</th>\n",
       "      <td>220.0</td>\n",
       "      <td>0.0</td>\n",
       "      <td>0.0</td>\n",
       "    </tr>\n",
       "  </tbody>\n",
       "</table>\n",
       "</div>"
      ],
      "text/plain": [
       "       0    1    2\n",
       "0  207.0  0.0  0.0\n",
       "1  219.0  0.0  0.0\n",
       "2  219.0  0.0  0.0\n",
       "3  220.0  0.0  0.0\n",
       "4  220.0  0.0  0.0"
      ]
     },
     "execution_count": 349,
     "metadata": {},
     "output_type": "execute_result"
    }
   ],
   "source": [
    "smooth_low_df[0:5]"
   ]
  },
  {
   "cell_type": "markdown",
   "metadata": {},
   "source": [
    "# Use peak correction to get a better peakset"
   ]
  },
  {
   "cell_type": "code",
   "execution_count": 266,
   "metadata": {},
   "outputs": [],
   "source": [
    "import matplotlib.pyplot as plt\n",
    "from mpl_toolkits.mplot3d import Axes3D\n",
    "import numpy as np\n",
    "import pandas as pd\n",
    "from scipy.optimize import differential_evolution\n",
    "from scipy.special import gamma\n",
    "from sklearn.cluster import KMeans"
   ]
  },
  {
   "cell_type": "markdown",
   "metadata": {},
   "source": [
    "* define new function called remover_outlier_peak"
   ]
  },
  {
   "cell_type": "code",
   "execution_count": 318,
   "metadata": {},
   "outputs": [],
   "source": [
    "def remover_outlier_peak(datatime,true_high_df):\n",
    "    outlier_df = pd.DataFrame(np.empty((500,1)), columns = ['a'])\n",
    "    for i in range(true_high_df.shape[1]):\n",
    "        peak_pos = np.array(true_high_df.iloc[:, i])\n",
    "        outlier_interp = id_outliers_replacewith_interp(datatime, peak_pos, 1, 25)\n",
    "        DF = pd.DataFrame(outlier_interp ,columns = [i])\n",
    "        outlier_df = outlier_df.join(DF)\n",
    "        \n",
    "    outlier_df = outlier_df.drop(columns='a')\n",
    "        \n",
    "    return outlier_df"
   ]
  },
  {
   "cell_type": "code",
   "execution_count": 321,
   "metadata": {},
   "outputs": [
    {
     "name": "stdout",
     "output_type": "stream",
     "text": [
      "20\n",
      "20\n",
      "20\n"
     ]
    },
    {
     "name": "stderr",
     "output_type": "stream",
     "text": [
      "/Users/tutu/miniconda3/lib/python3.6/site-packages/numpy/core/fromnumeric.py:2957: RuntimeWarning: Mean of empty slice.\n",
      "  out=out, **kwargs)\n",
      "/Users/tutu/miniconda3/lib/python3.6/site-packages/numpy/core/_methods.py:80: RuntimeWarning: invalid value encountered in double_scalars\n",
      "  ret = ret.dtype.type(ret / rcount)\n",
      "/Users/tutu/miniconda3/lib/python3.6/site-packages/numpy/core/_methods.py:135: RuntimeWarning: Degrees of freedom <= 0 for slice\n",
      "  keepdims=keepdims)\n",
      "/Users/tutu/miniconda3/lib/python3.6/site-packages/numpy/core/_methods.py:105: RuntimeWarning: invalid value encountered in true_divide\n",
      "  arrmean, rcount, out=arrmean, casting='unsafe', subok=False)\n",
      "/Users/tutu/miniconda3/lib/python3.6/site-packages/numpy/core/_methods.py:127: RuntimeWarning: invalid value encountered in double_scalars\n",
      "  ret = ret.dtype.type(ret / rcount)\n"
     ]
    }
   ],
   "source": [
    "outlier_high_df = remover_outlier_peak(datatime,smooth_high_df)"
   ]
  },
  {
   "cell_type": "code",
   "execution_count": 326,
   "metadata": {},
   "outputs": [
    {
     "name": "stdout",
     "output_type": "stream",
     "text": [
      "20\n",
      "20\n",
      "20\n"
     ]
    },
    {
     "name": "stderr",
     "output_type": "stream",
     "text": [
      "/Users/tutu/miniconda3/lib/python3.6/site-packages/numpy/core/fromnumeric.py:2957: RuntimeWarning: Mean of empty slice.\n",
      "  out=out, **kwargs)\n",
      "/Users/tutu/miniconda3/lib/python3.6/site-packages/numpy/core/_methods.py:80: RuntimeWarning: invalid value encountered in double_scalars\n",
      "  ret = ret.dtype.type(ret / rcount)\n",
      "/Users/tutu/miniconda3/lib/python3.6/site-packages/numpy/core/_methods.py:135: RuntimeWarning: Degrees of freedom <= 0 for slice\n",
      "  keepdims=keepdims)\n",
      "/Users/tutu/miniconda3/lib/python3.6/site-packages/numpy/core/_methods.py:105: RuntimeWarning: invalid value encountered in true_divide\n",
      "  arrmean, rcount, out=arrmean, casting='unsafe', subok=False)\n",
      "/Users/tutu/miniconda3/lib/python3.6/site-packages/numpy/core/_methods.py:127: RuntimeWarning: invalid value encountered in double_scalars\n",
      "  ret = ret.dtype.type(ret / rcount)\n"
     ]
    }
   ],
   "source": [
    "outlier_low_df = remover_outlier_peak(datatime,smooth_low_df)"
   ]
  },
  {
   "cell_type": "markdown",
   "metadata": {},
   "source": [
    "# Peak Optimize Visulization"
   ]
  },
  {
   "cell_type": "markdown",
   "metadata": {},
   "source": [
    "* high peak"
   ]
  },
  {
   "cell_type": "code",
   "execution_count": 342,
   "metadata": {},
   "outputs": [
    {
     "data": {
      "image/png": "[encoded data removed]",
      "text/plain": [
       "<Figure size 1512x432 with 3 Axes>"
      ]
     },
     "metadata": {},
     "output_type": "display_data"
    }
   ],
   "source": [
    "plt.figure(figsize=(21,6))\n",
    "plt.subplot(132)\n",
    "for i in range(dataz_matx.shape[1]):\n",
    "    plt.title(' with remover', fontsize = 16, fontweight = 'bold')\n",
    "    plt.xlabel('x index ', fontsize = 16, fontweight = 'bold')\n",
    "    plt.ylabel('Peak index', fontsize = 16, fontweight = 'bold')\n",
    "    plt.plot(outlier_high_df.iloc[i,:].values,'o', color='black') \n",
    "    \n",
    "plt.subplot(131)\n",
    "for i in range(dataz_matx.shape[1]):\n",
    "    plt.title('Smooth High Peak', fontsize = 16, fontweight = 'bold')\n",
    "    plt.xlabel('x index ', fontsize = 16, fontweight = 'bold')\n",
    "    plt.ylabel('Peak index', fontsize = 16, fontweight = 'bold')\n",
    "    plt.plot(smooth_high_df.iloc[i,:].values,'o', color='black')\n",
    "      \n",
    "plt.subplot(133)\n",
    "for i in range(dataz_matx.shape[1]):\n",
    "    plt.title('true Peak changes', fontsize = 16, fontweight = 'bold')\n",
    "    plt.xlabel('x index ', fontsize = 16, fontweight = 'bold')\n",
    "    plt.ylabel('Peak index', fontsize = 16, fontweight = 'bold')\n",
    "    plt.plot(true_high_df.iloc[i,:].values,'o', color='black')"
   ]
  },
  {
   "cell_type": "markdown",
   "metadata": {},
   "source": [
    "* low peak"
   ]
  },
  {
   "cell_type": "code",
   "execution_count": 345,
   "metadata": {
    "scrolled": true
   },
   "outputs": [
    {
     "data": {
      "image/png": "[encoded data removed]",
      "text/plain": [
       "<Figure size 1512x432 with 3 Axes>"
      ]
     },
     "metadata": {},
     "output_type": "display_data"
    }
   ],
   "source": [
    "plt.figure(figsize=(21,6))\n",
    "plt.subplot(132)\n",
    "for i in range(dataz_matx.shape[1]):\n",
    "    plt.title(' with remover', fontsize = 16, fontweight = 'bold')\n",
    "    plt.xlabel('x index ', fontsize = 16, fontweight = 'bold')\n",
    "    plt.ylabel('Peak index', fontsize = 16, fontweight = 'bold')\n",
    "    plt.plot(outlier_low_df.iloc[i,:].values,'o', color='black') \n",
    "    \n",
    "plt.subplot(131)\n",
    "for i in range(dataz_matx.shape[1]):\n",
    "    plt.title('Smooth low Peak', fontsize = 16, fontweight = 'bold')\n",
    "    plt.xlabel('x index ', fontsize = 16, fontweight = 'bold')\n",
    "    plt.ylabel('Peak index', fontsize = 16, fontweight = 'bold')\n",
    "    plt.plot(smooth_low_df.iloc[i,:].values,'o', color='black')\n",
    "      \n",
    "plt.subplot(133)\n",
    "for i in range(dataz_matx.shape[1]):\n",
    "    plt.title('true Peak changes', fontsize = 16, fontweight = 'bold')\n",
    "    plt.xlabel('x index ', fontsize = 16, fontweight = 'bold')\n",
    "    plt.ylabel('Peak index', fontsize = 16, fontweight = 'bold')\n",
    "    plt.plot(true_low_df.iloc[i,:].values,'o', color='black')"
   ]
  },
  {
   "cell_type": "code",
   "execution_count": null,
   "metadata": {},
   "outputs": [],
   "source": []
  },
  {
   "cell_type": "code",
   "execution_count": 260,
   "metadata": {
    "scrolled": true
   },
   "outputs": [
    {
     "data": {
      "image/png": "[encoded data removed]",
      "text/plain": [
       "<Figure size 432x288 with 1 Axes>"
      ]
     },
     "metadata": {},
     "output_type": "display_data"
    }
   ],
   "source": [
    "for i in range(50):\n",
    "    pplot(datanm, dataz_matx[:,1], true_high_df.iloc[1,:].values.astype('int64'))   "
   ]
  },
  {
   "cell_type": "code",
   "execution_count": 261,
   "metadata": {
    "scrolled": true
   },
   "outputs": [
    {
     "data": {
      "image/png": "[encoded data removed]",
      "text/plain": [
       "<Figure size 432x288 with 1 Axes>"
      ]
     },
     "metadata": {},
     "output_type": "display_data"
    }
   ],
   "source": [
    "for i in range(50):\n",
    "    pplot(datanm, smooth_matx.iloc[:, 1].values, smooth_high_df.iloc[1,:].values.astype('int64'))   "
   ]
  }
 ],
 "metadata": {
  "kernelspec": {
   "display_name": "Python 3",
   "language": "python",
   "name": "python3"
  },
  "language_info": {
   "codemirror_mode": {
    "name": "ipython",
    "version": 3
   },
   "file_extension": ".py",
   "mimetype": "text/x-python",
   "name": "python",
   "nbconvert_exporter": "python",
   "pygments_lexer": "ipython3",
   "version": "3.6.4"
  }
 },
 "nbformat": 4,
 "nbformat_minor": 2
}
