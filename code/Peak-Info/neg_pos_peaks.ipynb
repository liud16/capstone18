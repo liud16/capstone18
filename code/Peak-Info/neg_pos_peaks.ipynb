{
 "cells": [
  {
   "cell_type": "code",
   "execution_count": 1,
   "metadata": {},
   "outputs": [],
   "source": [
    "# importing the libraries\n",
    "import numpy as np\n",
    "\n",
    "\n",
    "from peakutils.plot import plot as pplot\n",
    "from matplotlib import pyplot as plt\n",
    "%matplotlib inline\n",
    "from scipy.optimize import curve_fit\n",
    "from scipy import interpolate\n",
    "\n",
    "import pandas as pd"
   ]
  },
  {
   "cell_type": "code",
   "execution_count": 18,
   "metadata": {},
   "outputs": [],
   "source": [
    "def indexes(y, thres=0.3, min_dist=1):\n",
    "    \"\"\"Peak detection routine.\n",
    "\n",
    "    Finds the numeric index of the peaks in *y* by taking its first order difference. By using\n",
    "    *thres* and *min_dist* parameters, it is possible to reduce the number of\n",
    "    detected peaks. *y* must be signed.\n",
    "\n",
    "    Parameters\n",
    "    ----------\n",
    "    y : ndarray (signed)\n",
    "        1D amplitude data to search for peaks.\n",
    "    thres : float between [0., 1.]\n",
    "        Normalized threshold. Only the peaks with amplitude higher than the\n",
    "        threshold will be detected.\n",
    "    min_dist : int\n",
    "        Minimum distance between each detected peak. The peak with the highest\n",
    "        amplitude is preferred to satisfy this constraint.\n",
    "\n",
    "    Returns\n",
    "    -------\n",
    "    ndarray\n",
    "        Array containing the numeric indexes of the peaks that were detected\n",
    "    \"\"\"\n",
    "    y_raw = y\n",
    "    y = [abs(k) for k in y_raw]\n",
    "    \n",
    "    if isinstance(y, np.ndarray) and np.issubdtype(y.dtype, np.unsignedinteger):\n",
    "        raise ValueError(\"y must be signed\")\n",
    "\n",
    "    thres = thres * (np.max(y) - np.min(y)) + np.min(y)\n",
    "    min_dist = int(min_dist)\n",
    "\n",
    "    # compute first order difference\n",
    "    dy = np.diff(y)\n",
    "\n",
    "    # propagate left and right values successively to fill all plateau pixels (0-value)\n",
    "    zeros,=np.where(dy == 0)\n",
    "    \n",
    "    # check if the singal is totally flat\n",
    "    if len(zeros) == len(y) - 1:\n",
    "        return np.array([])\n",
    "    \n",
    "    while len(zeros):\n",
    "        # add pixels 2 by 2 to propagate left and right value onto the zero-value pixel\n",
    "        zerosr = np.hstack([dy[1:], 0.])\n",
    "        zerosl = np.hstack([0., dy[:-1]])\n",
    "\n",
    "        # replace 0 with right value if non zero\n",
    "        dy[zeros]=zerosr[zeros]\n",
    "        zeros,=np.where(dy == 0)\n",
    "\n",
    "        # replace 0 with left value if non zero\n",
    "        dy[zeros]=zerosl[zeros]\n",
    "        zeros,=np.where(dy == 0)\n",
    "\n",
    "    # find the peaks by using the first order difference\n",
    "    peaks = np.where((np.hstack([dy, 0.]) < 0.)\n",
    "                     & (np.hstack([0., dy]) > 0.)\n",
    "                     & (y > thres))[0]\n",
    "\n",
    "    # handle multiple peaks, respecting the minimum distance\n",
    "    if peaks.size > 1 and min_dist > 1:\n",
    "        highest = peaks[np.argsort(y[peaks])][::-1]\n",
    "        rem = np.ones(y.size, dtype=bool)\n",
    "        rem[peaks] = False\n",
    "\n",
    "        for peak in highest:\n",
    "            if not rem[peak]:\n",
    "                sl = slice(max(0, peak - min_dist), peak + min_dist + 1)\n",
    "                rem[sl] = True\n",
    "                rem[peak] = False\n",
    "\n",
    "        peaks = np.arange(y.size)[~rem]\n",
    "\n",
    "    return peaks"
   ]
  },
  {
   "cell_type": "code",
   "execution_count": 6,
   "metadata": {},
   "outputs": [],
   "source": [
    "#create wavelength array\n",
    "nm = np.arange(850, 1600, 1)"
   ]
  },
  {
   "cell_type": "code",
   "execution_count": 4,
   "metadata": {},
   "outputs": [],
   "source": [
    "def gaussian(nm, a, x0, sigma):\n",
    "    \"\"\"\n",
    "    gaussian function\n",
    "    \"\"\"\n",
    "    gaussian_array = a * np.exp(- ((nm - x0) ** 2.0) / (2 * (sigma ** 2.0))) \n",
    "    \n",
    "    return gaussian_array"
   ]
  },
  {
   "cell_type": "code",
   "execution_count": 7,
   "metadata": {},
   "outputs": [],
   "source": [
    "#create a third gaussian\n",
    "a3 = 0.5\n",
    "x0_3 = 1100\n",
    "sigma_3 = 60\n",
    "\n",
    "\n",
    "#generate a gaussian model\n",
    "species_3 = gaussian(nm, a3, x0_3, sigma_3)"
   ]
  },
  {
   "cell_type": "code",
   "execution_count": 8,
   "metadata": {},
   "outputs": [],
   "source": [
    "#create a third gaussian\n",
    "a2 = 0.5\n",
    "x0_2 = 900\n",
    "sigma_2 = 10\n",
    "\n",
    "\n",
    "#generate a gaussian model\n",
    "species_2 = gaussian(nm, a2, x0_2, sigma_2)"
   ]
  },
  {
   "cell_type": "code",
   "execution_count": 15,
   "metadata": {},
   "outputs": [
    {
     "data": {
      "text/plain": [
       "[<matplotlib.lines.Line2D at 0x10c501630>]"
      ]
     },
     "execution_count": 15,
     "metadata": {},
     "output_type": "execute_result"
    },
    {
     "data": {
      "image/png": "[encoded data removed]",
      "text/plain": [
       "<matplotlib.figure.Figure at 0x10c43a128>"
      ]
     },
     "metadata": {},
     "output_type": "display_data"
    }
   ],
   "source": [
    "species = species_3 - species_2\n",
    "plt.figure()\n",
    "plt.plot(nm, species)"
   ]
  },
  {
   "cell_type": "code",
   "execution_count": 22,
   "metadata": {},
   "outputs": [
    {
     "data": {
      "text/plain": [
       "array([ 50, 250])"
      ]
     },
     "execution_count": 22,
     "metadata": {},
     "output_type": "execute_result"
    }
   ],
   "source": [
    "peaks = indexes(species, thres=0.3, min_dist=1)\n",
    "peaks"
   ]
  },
  {
   "cell_type": "code",
   "execution_count": 20,
   "metadata": {},
   "outputs": [
    {
     "data": {
      "image/png": "[encoded data removed]",
      "text/plain": [
       "<matplotlib.figure.Figure at 0x10c5d72b0>"
      ]
     },
     "metadata": {},
     "output_type": "display_data"
    }
   ],
   "source": [
    "pplot(nm, species, peaks.astype('int64'))"
   ]
  },
  {
   "cell_type": "code",
   "execution_count": null,
   "metadata": {},
   "outputs": [],
   "source": []
  }
 ],
 "metadata": {
  "kernelspec": {
   "display_name": "Python 3",
   "language": "python",
   "name": "python3"
  },
  "language_info": {
   "codemirror_mode": {
    "name": "ipython",
    "version": 3
   },
   "file_extension": ".py",
   "mimetype": "text/x-python",
   "name": "python",
   "nbconvert_exporter": "python",
   "pygments_lexer": "ipython3",
   "version": "3.6.3"
  }
 },
 "nbformat": 4,
 "nbformat_minor": 2
}
