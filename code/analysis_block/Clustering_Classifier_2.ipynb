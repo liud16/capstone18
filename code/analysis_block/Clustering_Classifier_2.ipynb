{
 "cells": [
  {
   "cell_type": "markdown",
   "metadata": {},
   "source": [
    "**Imports**"
   ]
  },
  {
   "cell_type": "code",
   "execution_count": 1,
   "metadata": {},
   "outputs": [],
   "source": [
    "import matplotlib.pyplot as plt\n",
    "from mpl_toolkits.mplot3d import Axes3D\n",
    "import numpy as np\n",
    "import pandas as pd\n",
    "from sklearn.cluster import KMeans"
   ]
  },
  {
   "cell_type": "markdown",
   "metadata": {},
   "source": [
    "**Translate Synthetic Data Into Peak Finding Output**"
   ]
  },
  {
   "cell_type": "code",
   "execution_count": 2,
   "metadata": {},
   "outputs": [],
   "source": [
    "synth_peak1 = np.loadtxt('Three_gaussians_oneblue_onered_peak1.txt')\n",
    "synth_peak2 = np.loadtxt('Three_gaussians_oneblue_onered_peak2.txt')\n",
    "synth_peak3 = np.loadtxt('Three_gaussians_oneblue_onered_peak3.txt')"
   ]
  },
  {
   "cell_type": "code",
   "execution_count": 9,
   "metadata": {},
   "outputs": [],
   "source": [
    "positions = np.array([[synth_peak1[i][0], synth_peak2[i][0], synth_peak3[i][0]] for i in range(5000)])\n",
    "heights = np.array([[synth_peak1[i][1], synth_peak2[i][1], synth_peak3[i][1]] for i in range(5000)])\n",
    "widths = np.array([[synth_peak1[i][2], synth_peak2[i][2], synth_peak3[i][2]] for i in range(5000)])"
   ]
  },
  {
   "cell_type": "code",
   "execution_count": 14,
   "metadata": {},
   "outputs": [
    {
     "data": {
      "text/plain": [
       "(15000, 4)"
      ]
     },
     "execution_count": 14,
     "metadata": {},
     "output_type": "execute_result"
    }
   ],
   "source": [
    "first_comp = np.array([[positions[i][0], heights[i][0], widths[i][0], i] for i in range(5000)])\n",
    "sec_comp = np.append(first_comp, [[positions[i][1], heights[i][1], widths[i][1], i] for i in range(5000)], axis=0)\n",
    "all_points = np.append(sec_comp, [[positions[i][2], heights[i][2], widths[i][2], i] for i in range(5000)], axis=0)\n",
    "np.shape(all_points)"
   ]
  },
  {
   "cell_type": "code",
   "execution_count": 15,
   "metadata": {},
   "outputs": [
    {
     "data": {
      "text/plain": [
       "array([[3.500e+02, 1.000e+00, 3.000e+02, 0.000e+00],\n",
       "       [3.500e+02, 9.672e-01, 3.000e+02, 1.000e+00],\n",
       "       [3.500e+02, 9.355e-01, 3.000e+02, 2.000e+00],\n",
       "       ...,\n",
       "       [5.500e+02, 1.836e+00, 6.000e+01, 4.997e+03],\n",
       "       [5.500e+02, 1.836e+00, 6.000e+01, 4.998e+03],\n",
       "       [5.500e+02, 1.836e+00, 6.000e+01, 4.999e+03]])"
      ]
     },
     "execution_count": 15,
     "metadata": {},
     "output_type": "execute_result"
    }
   ],
   "source": [
    "all_points"
   ]
  },
  {
   "cell_type": "code",
   "execution_count": 16,
   "metadata": {},
   "outputs": [
    {
     "data": {
      "text/html": [
       "<div>\n",
       "<style scoped>\n",
       "    .dataframe tbody tr th:only-of-type {\n",
       "        vertical-align: middle;\n",
       "    }\n",
       "\n",
       "    .dataframe tbody tr th {\n",
       "        vertical-align: top;\n",
       "    }\n",
       "\n",
       "    .dataframe thead th {\n",
       "        text-align: right;\n",
       "    }\n",
       "</style>\n",
       "<table border=\"1\" class=\"dataframe\">\n",
       "  <thead>\n",
       "    <tr style=\"text-align: right;\">\n",
       "      <th></th>\n",
       "      <th>Position</th>\n",
       "      <th>Height</th>\n",
       "      <th>Width</th>\n",
       "      <th>Time</th>\n",
       "    </tr>\n",
       "  </thead>\n",
       "  <tbody>\n",
       "    <tr>\n",
       "      <th>count</th>\n",
       "      <td>15000.000000</td>\n",
       "      <td>1.500000e+04</td>\n",
       "      <td>15000.000000</td>\n",
       "      <td>15000.000000</td>\n",
       "    </tr>\n",
       "    <tr>\n",
       "      <th>mean</th>\n",
       "      <td>316.680000</td>\n",
       "      <td>5.462816e-01</td>\n",
       "      <td>170.000000</td>\n",
       "      <td>2499.500000</td>\n",
       "    </tr>\n",
       "    <tr>\n",
       "      <th>std</th>\n",
       "      <td>176.380795</td>\n",
       "      <td>6.227926e-01</td>\n",
       "      <td>98.998249</td>\n",
       "      <td>1443.423759</td>\n",
       "    </tr>\n",
       "    <tr>\n",
       "      <th>min</th>\n",
       "      <td>50.000000</td>\n",
       "      <td>0.000000e+00</td>\n",
       "      <td>60.000000</td>\n",
       "      <td>0.000000</td>\n",
       "    </tr>\n",
       "    <tr>\n",
       "      <th>25%</th>\n",
       "      <td>175.000000</td>\n",
       "      <td>7.958250e-19</td>\n",
       "      <td>60.000000</td>\n",
       "      <td>1249.750000</td>\n",
       "    </tr>\n",
       "    <tr>\n",
       "      <th>50%</th>\n",
       "      <td>250.000000</td>\n",
       "      <td>2.551500e-01</td>\n",
       "      <td>150.000000</td>\n",
       "      <td>2499.500000</td>\n",
       "    </tr>\n",
       "    <tr>\n",
       "      <th>75%</th>\n",
       "      <td>550.000000</td>\n",
       "      <td>9.663750e-01</td>\n",
       "      <td>300.000000</td>\n",
       "      <td>3749.250000</td>\n",
       "    </tr>\n",
       "    <tr>\n",
       "      <th>max</th>\n",
       "      <td>550.000000</td>\n",
       "      <td>1.836000e+00</td>\n",
       "      <td>300.000000</td>\n",
       "      <td>4999.000000</td>\n",
       "    </tr>\n",
       "  </tbody>\n",
       "</table>\n",
       "</div>"
      ],
      "text/plain": [
       "           Position        Height         Width          Time\n",
       "count  15000.000000  1.500000e+04  15000.000000  15000.000000\n",
       "mean     316.680000  5.462816e-01    170.000000   2499.500000\n",
       "std      176.380795  6.227926e-01     98.998249   1443.423759\n",
       "min       50.000000  0.000000e+00     60.000000      0.000000\n",
       "25%      175.000000  7.958250e-19     60.000000   1249.750000\n",
       "50%      250.000000  2.551500e-01    150.000000   2499.500000\n",
       "75%      550.000000  9.663750e-01    300.000000   3749.250000\n",
       "max      550.000000  1.836000e+00    300.000000   4999.000000"
      ]
     },
     "execution_count": 16,
     "metadata": {},
     "output_type": "execute_result"
    }
   ],
   "source": [
    "all_points_df = pd.DataFrame(all_points, columns=['Position', 'Height', 'Width', 'Time'])\n",
    "all_points_df.describe()"
   ]
  },
  {
   "cell_type": "markdown",
   "metadata": {},
   "source": [
    "**Set number of clusters and train algorithm using all input data**\n",
    "\n",
    "http://scikit-learn.org/stable/modules/generated/sklearn.cluster.KMeans.html#sklearn.cluster.KMeans.transform\n",
    "\n",
    "* Number of clusters is based on number of peaks (or indexes) found by peak finder"
   ]
  },
  {
   "cell_type": "code",
   "execution_count": 18,
   "metadata": {},
   "outputs": [
    {
     "data": {
      "text/plain": [
       "array([0, 0, 0, ..., 1, 1, 1])"
      ]
     },
     "execution_count": 18,
     "metadata": {},
     "output_type": "execute_result"
    }
   ],
   "source": [
    "cluster = KMeans(n_clusters=3).fit(all_points[:,:-1])\n",
    "cluster.labels_"
   ]
  },
  {
   "cell_type": "markdown",
   "metadata": {},
   "source": [
    "Rough first shot at visualizing clustering"
   ]
  },
  {
   "cell_type": "code",
   "execution_count": 39,
   "metadata": {},
   "outputs": [
    {
     "data": {
      "image/png": "[encoded data removed]",
      "text/plain": [
       "<Figure size 504x432 with 1 Axes>"
      ]
     },
     "metadata": {},
     "output_type": "display_data"
    }
   ],
   "source": [
    "fignum = 1\n",
    "fig = plt.figure(fignum, figsize=(7, 6))\n",
    "ax = Axes3D(fig, rect=[0, 0, .95, 1], elev=50, azim=123)\n",
    "cluster\n",
    "labels = cluster.labels_\n",
    "\n",
    "ax.scatter(all_points[:, 0], all_points[:, 1], all_points[:, 2],\n",
    "             c=labels.astype(np.float))\n",
    "\n",
    "ax.w_xaxis.set_ticklabels([])\n",
    "ax.w_yaxis.set_ticklabels([])\n",
    "ax.w_zaxis.set_ticklabels([])\n",
    "ax.set_xlabel('Position?')\n",
    "ax.set_ylabel('Height?')\n",
    "ax.set_zlabel('Width?')\n",
    "ax.dist = 12"
   ]
  },
  {
   "cell_type": "markdown",
   "metadata": {},
   "source": [
    "**Make iterative loop to test each data point against clusters**\n",
    "\n",
    "Essentially, we take all data and scatter it on the plot.\n",
    "Then, one by one, we classify the peak based on which region it is most likely to belong to."
   ]
  },
  {
   "cell_type": "code",
   "execution_count": 19,
   "metadata": {},
   "outputs": [],
   "source": [
    "peak1_list = []\n",
    "peak2_list = []\n",
    "peak3_list = []\n",
    "\n",
    "for i in range(15000):\n",
    "    peak = cluster.predict([all_points[i][:-1]])\n",
    "    if ( peak == 0 ):\n",
    "        peak1_list.append(all_points[i])\n",
    "    elif ( peak == 1 ):\n",
    "        peak2_list.append(all_points[i])\n",
    "    elif ( peak == 2 ):\n",
    "        peak3_list.append(all_points[i])\n",
    "    else:\n",
    "        print('all_points[i] broke it!')"
   ]
  },
  {
   "cell_type": "markdown",
   "metadata": {},
   "source": [
    "**Feed lists generated by classifying peaks into DataFrames.**\n",
    "\n",
    "We place them into DataFrames so that the data can be easily manipulated and cleaned.\n",
    "* One specific bonus is dropping duplicates"
   ]
  },
  {
   "cell_type": "code",
   "execution_count": 20,
   "metadata": {},
   "outputs": [],
   "source": [
    "peak1_unfilt = pd.DataFrame(peak1_list, columns=['Position', 'Height', 'Width', 'Time'])\n",
    "peak1 = peak1_unfilt.drop_duplicates(subset='Time')\n",
    "\n",
    "peak2_unfilt = pd.DataFrame(peak2_list, columns=['Position', 'Height', 'Width', 'Time'])\n",
    "peak2 = peak2_unfilt.drop_duplicates(subset='Time')\n",
    "\n",
    "peak3_unfilt = pd.DataFrame(peak3_list, columns=['Position', 'Height', 'Width', 'Time'])\n",
    "peak3 = peak3_unfilt.drop_duplicates(subset='Time')"
   ]
  },
  {
   "cell_type": "code",
   "execution_count": 21,
   "metadata": {},
   "outputs": [
    {
     "data": {
      "text/html": [
       "<div>\n",
       "<style scoped>\n",
       "    .dataframe tbody tr th:only-of-type {\n",
       "        vertical-align: middle;\n",
       "    }\n",
       "\n",
       "    .dataframe tbody tr th {\n",
       "        vertical-align: top;\n",
       "    }\n",
       "\n",
       "    .dataframe thead th {\n",
       "        text-align: right;\n",
       "    }\n",
       "</style>\n",
       "<table border=\"1\" class=\"dataframe\">\n",
       "  <thead>\n",
       "    <tr style=\"text-align: right;\">\n",
       "      <th></th>\n",
       "      <th>Position</th>\n",
       "      <th>Height</th>\n",
       "      <th>Width</th>\n",
       "      <th>Time</th>\n",
       "    </tr>\n",
       "  </thead>\n",
       "  <tbody>\n",
       "    <tr>\n",
       "      <th>count</th>\n",
       "      <td>5000.000000</td>\n",
       "      <td>5.000000e+03</td>\n",
       "      <td>5000.0</td>\n",
       "      <td>5000.000000</td>\n",
       "    </tr>\n",
       "    <tr>\n",
       "      <th>mean</th>\n",
       "      <td>250.020000</td>\n",
       "      <td>6.100534e-03</td>\n",
       "      <td>300.0</td>\n",
       "      <td>2499.500000</td>\n",
       "    </tr>\n",
       "    <tr>\n",
       "      <th>std</th>\n",
       "      <td>57.742241</td>\n",
       "      <td>5.535738e-02</td>\n",
       "      <td>0.0</td>\n",
       "      <td>1443.520003</td>\n",
       "    </tr>\n",
       "    <tr>\n",
       "      <th>min</th>\n",
       "      <td>150.000000</td>\n",
       "      <td>4.286000e-73</td>\n",
       "      <td>300.0</td>\n",
       "      <td>0.000000</td>\n",
       "    </tr>\n",
       "    <tr>\n",
       "      <th>25%</th>\n",
       "      <td>200.000000</td>\n",
       "      <td>5.298000e-55</td>\n",
       "      <td>300.0</td>\n",
       "      <td>1249.750000</td>\n",
       "    </tr>\n",
       "    <tr>\n",
       "      <th>50%</th>\n",
       "      <td>250.000000</td>\n",
       "      <td>6.548000e-37</td>\n",
       "      <td>300.0</td>\n",
       "      <td>2499.500000</td>\n",
       "    </tr>\n",
       "    <tr>\n",
       "      <th>75%</th>\n",
       "      <td>300.000000</td>\n",
       "      <td>8.092000e-19</td>\n",
       "      <td>300.0</td>\n",
       "      <td>3749.250000</td>\n",
       "    </tr>\n",
       "    <tr>\n",
       "      <th>max</th>\n",
       "      <td>350.000000</td>\n",
       "      <td>1.000000e+00</td>\n",
       "      <td>300.0</td>\n",
       "      <td>4999.000000</td>\n",
       "    </tr>\n",
       "  </tbody>\n",
       "</table>\n",
       "</div>"
      ],
      "text/plain": [
       "          Position        Height   Width         Time\n",
       "count  5000.000000  5.000000e+03  5000.0  5000.000000\n",
       "mean    250.020000  6.100534e-03   300.0  2499.500000\n",
       "std      57.742241  5.535738e-02     0.0  1443.520003\n",
       "min     150.000000  4.286000e-73   300.0     0.000000\n",
       "25%     200.000000  5.298000e-55   300.0  1249.750000\n",
       "50%     250.000000  6.548000e-37   300.0  2499.500000\n",
       "75%     300.000000  8.092000e-19   300.0  3749.250000\n",
       "max     350.000000  1.000000e+00   300.0  4999.000000"
      ]
     },
     "execution_count": 21,
     "metadata": {},
     "output_type": "execute_result"
    }
   ],
   "source": [
    "peak1.describe()"
   ]
  },
  {
   "cell_type": "code",
   "execution_count": 22,
   "metadata": {},
   "outputs": [
    {
     "data": {
      "text/html": [
       "<div>\n",
       "<style scoped>\n",
       "    .dataframe tbody tr th:only-of-type {\n",
       "        vertical-align: middle;\n",
       "    }\n",
       "\n",
       "    .dataframe tbody tr th {\n",
       "        vertical-align: top;\n",
       "    }\n",
       "\n",
       "    .dataframe thead th {\n",
       "        text-align: right;\n",
       "    }\n",
       "</style>\n",
       "<table border=\"1\" class=\"dataframe\">\n",
       "  <thead>\n",
       "    <tr style=\"text-align: right;\">\n",
       "      <th></th>\n",
       "      <th>Position</th>\n",
       "      <th>Height</th>\n",
       "      <th>Width</th>\n",
       "      <th>Time</th>\n",
       "    </tr>\n",
       "  </thead>\n",
       "  <tbody>\n",
       "    <tr>\n",
       "      <th>count</th>\n",
       "      <td>5000.0</td>\n",
       "      <td>5000.000000</td>\n",
       "      <td>5000.0</td>\n",
       "      <td>5000.000000</td>\n",
       "    </tr>\n",
       "    <tr>\n",
       "      <th>mean</th>\n",
       "      <td>550.0</td>\n",
       "      <td>1.265487</td>\n",
       "      <td>60.0</td>\n",
       "      <td>2499.500000</td>\n",
       "    </tr>\n",
       "    <tr>\n",
       "      <th>std</th>\n",
       "      <td>0.0</td>\n",
       "      <td>0.505516</td>\n",
       "      <td>0.0</td>\n",
       "      <td>1443.520003</td>\n",
       "    </tr>\n",
       "    <tr>\n",
       "      <th>min</th>\n",
       "      <td>550.0</td>\n",
       "      <td>0.000000</td>\n",
       "      <td>60.0</td>\n",
       "      <td>0.000000</td>\n",
       "    </tr>\n",
       "    <tr>\n",
       "      <th>25%</th>\n",
       "      <td>550.0</td>\n",
       "      <td>0.929350</td>\n",
       "      <td>60.0</td>\n",
       "      <td>1249.750000</td>\n",
       "    </tr>\n",
       "    <tr>\n",
       "      <th>50%</th>\n",
       "      <td>550.0</td>\n",
       "      <td>1.427000</td>\n",
       "      <td>60.0</td>\n",
       "      <td>2499.500000</td>\n",
       "    </tr>\n",
       "    <tr>\n",
       "      <th>75%</th>\n",
       "      <td>550.0</td>\n",
       "      <td>1.693000</td>\n",
       "      <td>60.0</td>\n",
       "      <td>3749.250000</td>\n",
       "    </tr>\n",
       "    <tr>\n",
       "      <th>max</th>\n",
       "      <td>550.0</td>\n",
       "      <td>1.836000</td>\n",
       "      <td>60.0</td>\n",
       "      <td>4999.000000</td>\n",
       "    </tr>\n",
       "  </tbody>\n",
       "</table>\n",
       "</div>"
      ],
      "text/plain": [
       "       Position       Height   Width         Time\n",
       "count    5000.0  5000.000000  5000.0  5000.000000\n",
       "mean      550.0     1.265487    60.0  2499.500000\n",
       "std         0.0     0.505516     0.0  1443.520003\n",
       "min       550.0     0.000000    60.0     0.000000\n",
       "25%       550.0     0.929350    60.0  1249.750000\n",
       "50%       550.0     1.427000    60.0  2499.500000\n",
       "75%       550.0     1.693000    60.0  3749.250000\n",
       "max       550.0     1.836000    60.0  4999.000000"
      ]
     },
     "execution_count": 22,
     "metadata": {},
     "output_type": "execute_result"
    }
   ],
   "source": [
    "peak2.describe()"
   ]
  },
  {
   "cell_type": "code",
   "execution_count": 24,
   "metadata": {
    "scrolled": true
   },
   "outputs": [
    {
     "data": {
      "text/html": [
       "<div>\n",
       "<style scoped>\n",
       "    .dataframe tbody tr th:only-of-type {\n",
       "        vertical-align: middle;\n",
       "    }\n",
       "\n",
       "    .dataframe tbody tr th {\n",
       "        vertical-align: top;\n",
       "    }\n",
       "\n",
       "    .dataframe thead th {\n",
       "        text-align: right;\n",
       "    }\n",
       "</style>\n",
       "<table border=\"1\" class=\"dataframe\">\n",
       "  <thead>\n",
       "    <tr style=\"text-align: right;\">\n",
       "      <th></th>\n",
       "      <th>Position</th>\n",
       "      <th>Height</th>\n",
       "      <th>Width</th>\n",
       "      <th>Time</th>\n",
       "    </tr>\n",
       "  </thead>\n",
       "  <tbody>\n",
       "    <tr>\n",
       "      <th>count</th>\n",
       "      <td>5000.000000</td>\n",
       "      <td>5000.000000</td>\n",
       "      <td>5000.0</td>\n",
       "      <td>5000.000000</td>\n",
       "    </tr>\n",
       "    <tr>\n",
       "      <th>mean</th>\n",
       "      <td>150.020000</td>\n",
       "      <td>0.367257</td>\n",
       "      <td>150.0</td>\n",
       "      <td>2499.500000</td>\n",
       "    </tr>\n",
       "    <tr>\n",
       "      <th>std</th>\n",
       "      <td>57.742241</td>\n",
       "      <td>0.252756</td>\n",
       "      <td>0.0</td>\n",
       "      <td>1443.520003</td>\n",
       "    </tr>\n",
       "    <tr>\n",
       "      <th>min</th>\n",
       "      <td>50.000000</td>\n",
       "      <td>0.082130</td>\n",
       "      <td>150.0</td>\n",
       "      <td>0.000000</td>\n",
       "    </tr>\n",
       "    <tr>\n",
       "      <th>25%</th>\n",
       "      <td>100.000000</td>\n",
       "      <td>0.153400</td>\n",
       "      <td>150.0</td>\n",
       "      <td>1249.750000</td>\n",
       "    </tr>\n",
       "    <tr>\n",
       "      <th>50%</th>\n",
       "      <td>150.000000</td>\n",
       "      <td>0.286550</td>\n",
       "      <td>150.0</td>\n",
       "      <td>2499.500000</td>\n",
       "    </tr>\n",
       "    <tr>\n",
       "      <th>75%</th>\n",
       "      <td>200.000000</td>\n",
       "      <td>0.535350</td>\n",
       "      <td>150.0</td>\n",
       "      <td>3749.250000</td>\n",
       "    </tr>\n",
       "    <tr>\n",
       "      <th>max</th>\n",
       "      <td>250.000000</td>\n",
       "      <td>1.000000</td>\n",
       "      <td>150.0</td>\n",
       "      <td>4999.000000</td>\n",
       "    </tr>\n",
       "  </tbody>\n",
       "</table>\n",
       "</div>"
      ],
      "text/plain": [
       "          Position       Height   Width         Time\n",
       "count  5000.000000  5000.000000  5000.0  5000.000000\n",
       "mean    150.020000     0.367257   150.0  2499.500000\n",
       "std      57.742241     0.252756     0.0  1443.520003\n",
       "min      50.000000     0.082130   150.0     0.000000\n",
       "25%     100.000000     0.153400   150.0  1249.750000\n",
       "50%     150.000000     0.286550   150.0  2499.500000\n",
       "75%     200.000000     0.535350   150.0  3749.250000\n",
       "max     250.000000     1.000000   150.0  4999.000000"
      ]
     },
     "execution_count": 24,
     "metadata": {},
     "output_type": "execute_result"
    }
   ],
   "source": [
    "peak3.describe()"
   ]
  },
  {
   "cell_type": "markdown",
   "metadata": {},
   "source": [
    "**Plot the results.**\n",
    "\n",
    "A next step is having these lines fit with exponentials to compare multi-peak features."
   ]
  },
  {
   "cell_type": "code",
   "execution_count": 25,
   "metadata": {},
   "outputs": [
    {
     "data": {
      "image/png": "[encoded data removed]",
      "text/plain": [
       "<Figure size 432x288 with 1 Axes>"
      ]
     },
     "metadata": {},
     "output_type": "display_data"
    }
   ],
   "source": [
    "plt.plot(peak1['Time'], peak1['Height'], 'o', markersize = 2, label = 'Peak 1')\n",
    "plt.plot(peak2['Time'], peak2['Height'], 'o', markersize = 2, label = 'Peak 2')\n",
    "plt.plot(peak3['Time'], peak3['Height'], 'o', markersize = 2, label = 'Peak 3')\n",
    "plt.title('Kinetics of Identified Peaks')\n",
    "plt.xlabel('Time')\n",
    "plt.ylabel('Intensity')\n",
    "plt.legend()\n",
    "plt.show()"
   ]
  },
  {
   "cell_type": "code",
   "execution_count": 28,
   "metadata": {},
   "outputs": [
    {
     "data": {
      "image/png": "[encoded data removed]",
      "text/plain": [
       "<Figure size 432x288 with 1 Axes>"
      ]
     },
     "metadata": {},
     "output_type": "display_data"
    }
   ],
   "source": [
    "plt.plot(peak1['Time'], peak1['Position'], 'o', markersize = 2, label = 'Peak 1')\n",
    "plt.plot(peak2['Time'], peak2['Position'], 'o', markersize = 2, label = 'Peak 2')\n",
    "plt.plot(peak3['Time'], peak3['Position'], 'o', markersize = 2, label = 'Peak 3')\n",
    "plt.title('Shift of Identified Peaks')\n",
    "plt.xlabel('Time')\n",
    "plt.ylabel('Wavelength $(nm)$')\n",
    "plt.legend()\n",
    "plt.show()"
   ]
  },
  {
   "cell_type": "code",
   "execution_count": null,
   "metadata": {},
   "outputs": [],
   "source": []
  }
 ],
 "metadata": {
  "kernelspec": {
   "display_name": "Python 3",
   "language": "python",
   "name": "python3"
  },
  "language_info": {
   "codemirror_mode": {
    "name": "ipython",
    "version": 3
   },
   "file_extension": ".py",
   "mimetype": "text/x-python",
   "name": "python",
   "nbconvert_exporter": "python",
   "pygments_lexer": "ipython3",
   "version": "3.6.4"
  }
 },
 "nbformat": 4,
 "nbformat_minor": 2
}
