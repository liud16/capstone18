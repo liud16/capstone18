{
 "cells": [
  {
   "cell_type": "code",
   "execution_count": 1,
   "metadata": {},
   "outputs": [],
   "source": [
    "import finding\n",
    "import pandas as pd\n",
    "import peakutils"
   ]
  },
  {
   "cell_type": "code",
   "execution_count": 7,
   "metadata": {},
   "outputs": [],
   "source": [
    "def test_output():\n",
    "    matx_filename = '20180418_twogaussian_spectralshfit.txt'\n",
    "    datanm, datatime, dataz_matx = finding.loaddata(matx_filename)\n",
    "    true_df, smooth_df = finding.earth_peak_matrix(datanm, dataz_matx, 0.1, 0, 10)\n",
    "    if isinstance(true_df, pd.DataFrame):\n",
    "        pass\n",
    "    else:\n",
    "        raise Exception('Bad type', 'Not a dataframe')\n",
    "    if isinstance(smooth_df, pd.DataFrame):\n",
    "        pass\n",
    "    else:\n",
    "        raise Exception('Bad type', 'Not a dataframe')\n",
    "    return"
   ]
  },
  {
   "cell_type": "code",
   "execution_count": 8,
   "metadata": {},
   "outputs": [
    {
     "name": "stderr",
     "output_type": "stream",
     "text": [
      "/Users/tutu/miniconda3/lib/python3.6/site-packages/pyearth/earth.py:802: FutureWarning: `rcond` parameter will change to the default of machine precision times ``max(M, N)`` where M and N are the input matrix dimensions.\n",
      "To use the future default and silence this warning we advise to pass `rcond=None`, to keep using the old, explicitly pass `rcond=-1`.\n",
      "  pruning_passer.run()\n",
      "/Users/tutu/miniconda3/lib/python3.6/site-packages/pyearth/earth.py:1055: FutureWarning: `rcond` parameter will change to the default of machine precision times ``max(M, N)`` where M and N are the input matrix dimensions.\n",
      "To use the future default and silence this warning we advise to pass `rcond=None`, to keep using the old, explicitly pass `rcond=-1`.\n",
      "  coef, resid = np.linalg.lstsq(B, weighted_y[:, i])[0:2]\n"
     ]
    }
   ],
   "source": [
    "test_output()"
   ]
  },
  {
   "cell_type": "code",
   "execution_count": 14,
   "metadata": {},
   "outputs": [],
   "source": [
    "def test_peak_indexs():\n",
    "    matx_filename = '20180418_twogaussian_spectralshfit.txt'\n",
    "    datanm, datatime, dataz_matx = finding.loaddata(matx_filename)\n",
    "    true_df, smooth_df = finding.earth_peak_matrix(datanm, dataz_matx, 0.1, 0, 10)\n",
    "    \n",
    "    i=0\n",
    "    assert true_df.iloc[i][i] == finding.findpeak(dataz_matx[:,i],0.1,50)[i],'cannot get right true peak indexs'\n",
    "    #check if we can get right smooth value from noisy dataset\n",
    "    i=0\n",
    "    smoothz_matx =finding.earth_Smoothing(datanm, dataz_matx[:,i], 0.1)\n",
    "    \n",
    "    assert smooth_df.iloc[i][i]  == finding.findpeak(smoothz_matx,0.1,50)[i],'cannot get right smooth peak indexs'\n",
    "    return"
   ]
  },
  {
   "cell_type": "code",
   "execution_count": 15,
   "metadata": {},
   "outputs": [
    {
     "name": "stderr",
     "output_type": "stream",
     "text": [
      "/Users/tutu/miniconda3/lib/python3.6/site-packages/pyearth/earth.py:802: FutureWarning: `rcond` parameter will change to the default of machine precision times ``max(M, N)`` where M and N are the input matrix dimensions.\n",
      "To use the future default and silence this warning we advise to pass `rcond=None`, to keep using the old, explicitly pass `rcond=-1`.\n",
      "  pruning_passer.run()\n",
      "/Users/tutu/miniconda3/lib/python3.6/site-packages/pyearth/earth.py:1055: FutureWarning: `rcond` parameter will change to the default of machine precision times ``max(M, N)`` where M and N are the input matrix dimensions.\n",
      "To use the future default and silence this warning we advise to pass `rcond=None`, to keep using the old, explicitly pass `rcond=-1`.\n",
      "  coef, resid = np.linalg.lstsq(B, weighted_y[:, i])[0:2]\n"
     ]
    }
   ],
   "source": [
    "test_peak_indexs()"
   ]
  },
  {
   "cell_type": "code",
   "execution_count": 6,
   "metadata": {},
   "outputs": [],
   "source": [
    "def test_peak_height_fwhm():\n",
    "    matx_filename = '20180418_twogaussian_spectralshfit.txt'\n",
    "    datanm, datatime, dataz_matx = finding.loaddata(matx_filename)\n",
    "    noisez_matx, smooth_matx = finding.earth_smooth_matrix(datanm,dataz_matx,0.1)\n",
    "    peak_idx_df, peak_height_df, peak_fwhm_df = finding.peak_matrix(datanm, smooth_matx, 0.00, 50)\n",
    "      \n",
    "    i=0\n",
    "    data_timeslice = smooth_matx.values[:, i]\n",
    "    peak_idx = finding.findpeak(data_timeslice, 0, 50).tolist()\n",
    "    peak_height, peak_fwhm = finding.peakchar(datanm, data_timeslice, peak_idx)\n",
    "    assert peak_height_df.iloc[i][i] == peak_height[i],'cannot get right peak height value'\n",
    "    #check if we can get right smooth value from noisy dataset\n",
    "    assert peak_fwhm_df.iloc[i][i] == peak_fwhm[i],'cannot get right smooth width value'\n",
    "    return"
   ]
  },
  {
   "cell_type": "code",
   "execution_count": 7,
   "metadata": {},
   "outputs": [
    {
     "name": "stderr",
     "output_type": "stream",
     "text": [
      "/Users/tutu/miniconda3/lib/python3.6/site-packages/pyearth/earth.py:802: FutureWarning: `rcond` parameter will change to the default of machine precision times ``max(M, N)`` where M and N are the input matrix dimensions.\n",
      "To use the future default and silence this warning we advise to pass `rcond=None`, to keep using the old, explicitly pass `rcond=-1`.\n",
      "  pruning_passer.run()\n",
      "/Users/tutu/miniconda3/lib/python3.6/site-packages/pyearth/earth.py:1055: FutureWarning: `rcond` parameter will change to the default of machine precision times ``max(M, N)`` where M and N are the input matrix dimensions.\n",
      "To use the future default and silence this warning we advise to pass `rcond=None`, to keep using the old, explicitly pass `rcond=-1`.\n",
      "  coef, resid = np.linalg.lstsq(B, weighted_y[:, i])[0:2]\n"
     ]
    }
   ],
   "source": [
    "test_peak_height_fwhm()"
   ]
  },
  {
   "cell_type": "code",
   "execution_count": null,
   "metadata": {},
   "outputs": [],
   "source": []
  }
 ],
 "metadata": {
  "kernelspec": {
   "display_name": "Python 3",
   "language": "python",
   "name": "python3"
  },
  "language_info": {
   "codemirror_mode": {
    "name": "ipython",
    "version": 3
   },
   "file_extension": ".py",
   "mimetype": "text/x-python",
   "name": "python",
   "nbconvert_exporter": "python",
   "pygments_lexer": "ipython3",
   "version": "3.6.4"
  }
 },
 "nbformat": 4,
 "nbformat_minor": 2
}
