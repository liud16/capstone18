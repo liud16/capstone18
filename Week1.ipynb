{
 "cells": [
  {
   "cell_type": "markdown",
   "metadata": {},
   "source": [
    "# Week 1 #\n",
    "\n",
    "## Peak fitting packages/functions ##"
   ]
  },
  {
   "cell_type": "markdown",
   "metadata": {},
   "source": [
    "1. PeakUtils\n",
    "2. scipy.signal.cwt"
   ]
  },
  {
   "cell_type": "markdown",
   "metadata": {},
   "source": [
    "### 1. PeakUtils ###\n",
    "   \n",
    "   - finds the peaks in the array, can fit curve to built-in functions as well\n",
    "   - removes baseline using Vandermonde matrix\n",
    "   - peak-detection routine:\n",
    "       - finds the peaks by taking the first order difference\n",
    "       - can set minimal distance between peaks: useful for noisy data\n",
    "       - can set threshold, i.e. only peaks with amplitude higher \n",
    "    "
   ]
  },
  {
   "cell_type": "markdown",
   "metadata": {},
   "source": [
    "### 2. scipy.signal.cwt ###"
   ]
  },
  {
   "cell_type": "markdown",
   "metadata": {},
   "source": [
    "## Curve fitting ##"
   ]
  },
  {
   "cell_type": "markdown",
   "metadata": {},
   "source": [
    "### 1. scipy.optimize.curve_fit ###"
   ]
  },
  {
   "cell_type": "markdown",
   "metadata": {},
   "source": [
    "- Uses non-linear least squares to fit a function to data\n",
    "- Uses least_squares for optimization\n",
    "\n",
    "- *Limit*:\n",
    "    - least_squares method finds the *local* minimum of the residue"
   ]
  },
  {
   "cell_type": "markdown",
   "metadata": {},
   "source": [
    "### 2. LMFIT ###\n",
    "   \n",
    "   - fits an array of data to a defined function\n",
    "   - uses a class to wrap a pre-defined function as a fitting model\n",
    "   - provides canonical definitions for known line shape such as Gaussian or Lorentzian and exponential\n",
    "   - uses a high-level wrapper around scipy.optimize.leastsq in curve fitting\n",
    "   - curve-fitting routine (similar to sklean routines):\n",
    "       - create a model that has a defined function\n",
    "       - initialize parameters for the model:\n",
    "           - supply parameters\n",
    "           - guess starting values by providing an array of data; not available to all canonical functions\n",
    "           - give parameter hints: value, vary or not, min, max, mathematical expression for constraints   \n",
    "       - fit data to the model\n",
    "        "
   ]
  },
  {
   "cell_type": "markdown",
   "metadata": {},
   "source": [
    "## Minimization method: differential_evolution##"
   ]
  },
  {
   "cell_type": "markdown",
   "metadata": {},
   "source": [
    "- Finds the global minimum of a multivariate function\n",
    "- Stochastic population based method to find the minimum\n",
    "- At each pass through the population, the algorithm mutates each candidate solution by mixing with other candidate solutions to create a trial candidate"
   ]
  },
  {
   "cell_type": "markdown",
   "metadata": {},
   "source": [
    "## Correlation detection packages ##"
   ]
  },
  {
   "cell_type": "markdown",
   "metadata": {},
   "source": [
    "## 1. PySceneDetect ##\n",
    "* Scene detection method: http://pyscenedetect.readthedocs.io/en/latest/features/\n",
    "    1. threshold-based:\n",
    "        - compares pixel intensity in the current frame with a threshold value\n",
    "        - a new scene is detected when the threshold is crossed\n",
    "    2. content-aware:\n",
    "        - finds areas where the difference between two subsequent frames exceeds the set threshold value"
   ]
  },
  {
   "cell_type": "markdown",
   "metadata": {},
   "source": [
    "## 2. openCV functions ##"
   ]
  },
  {
   "cell_type": "markdown",
   "metadata": {},
   "source": [
    "* Motion detection in videos: https://www.pyimagesearch.com/2015/05/25/basic-motion-detection-and-tracking-with-python-and-opencv/\n",
    "\n",
    "     - uses the first frame as the background\n",
    "     - calculate the pixel intensity difference between the initial frame and the subsequent new frames\n",
    "     - use a threshold of pixel intensity to detect objects showing up in new frames"
   ]
  },
  {
   "cell_type": "markdown",
   "metadata": {},
   "source": [
    "## *Applying scene detection to our data* ##"
   ]
  },
  {
   "cell_type": "markdown",
   "metadata": {},
   "source": [
    "### Routine that may work for peak and peak shift detection: ###\n",
    "- Between two subsequent frames, compute the difference at each wavelength\n",
    "- Find the peaks in two subsequent frames\n",
    "- Set some kind of threshold for the difference and peak shift\n",
    "\n",
    "### Or (??): ###\n",
    "- generate a difference map?\n",
    "- difference map for the decay of a single peak is different from the decay *and* shift of a peak?"
   ]
  },
  {
   "cell_type": "code",
   "execution_count": null,
   "metadata": {},
   "outputs": [],
   "source": []
  }
 ],
 "metadata": {
  "kernelspec": {
   "display_name": "Python 3",
   "language": "python",
   "name": "python3"
  },
  "language_info": {
   "codemirror_mode": {
    "name": "ipython",
    "version": 3
   },
   "file_extension": ".py",
   "mimetype": "text/x-python",
   "name": "python",
   "nbconvert_exporter": "python",
   "pygments_lexer": "ipython3",
   "version": "3.6.3"
  }
 },
 "nbformat": 4,
 "nbformat_minor": 2
}
