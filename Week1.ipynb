{
 "cells": [
  {
   "cell_type": "markdown",
   "metadata": {},
   "source": [
    "# Week 1 #\n",
    "\n",
    "## Peak fitting packages/functions ##"
   ]
  },
  {
   "cell_type": "markdown",
   "metadata": {},
   "source": [
    "1. PeakUtils\n",
    "2. LMFIT\n",
    "3. scipy.optimize.curve_fit"
   ]
  },
  {
   "cell_type": "markdown",
   "metadata": {},
   "source": [
    "### 1. scipy.optimize.curve_fit ###"
   ]
  },
  {
   "cell_type": "markdown",
   "metadata": {},
   "source": [
    "- Uses non-linear least squares to fit a function to data\n",
    "- Uses least_squares for optimization"
   ]
  },
  {
   "cell_type": "markdown",
   "metadata": {},
   "source": [
    "### 2. LMFIT ###\n",
    "   \n",
    "   - fits an array of data to a defined function\n",
    "   - uses a class to wrap a pre-defined function as a fitting model\n",
    "   - provides canonical definitions for known line shape such as Gaussian or Lorentzian and exponential\n",
    "   - uses a high-level wrapper around scipy.optimize.leastsq in curve fitting\n",
    "   - curve-fitting routine (similar to sklean routines):\n",
    "       - create a model that has a defined function\n",
    "       - initialize parameters for the model:\n",
    "           - supply parameters\n",
    "           - guess starting values by providing an array of data; not available to all canonical functions\n",
    "           - give parameter hints: value, vary or not, min, max, mathematical expression for constraints   \n",
    "       - fit data to the model\n",
    "        "
   ]
  },
  {
   "cell_type": "markdown",
   "metadata": {},
   "source": [
    "### 3. PeakUtils ###\n",
    "   \n",
    "   - finds the peaks in the array, can fit curve to built-in functions as well\n",
    "   - removes baseline using Vandermonde matrix\n",
    "   - peak-detection routine:\n",
    "       - finds the peaks by taking the first order difference\n",
    "       - can set minimal distance between peaks: useful for noisy data\n",
    "       - can set threshold, i.e. only peaks with amplitude higher \n",
    "    "
   ]
  },
  {
   "cell_type": "code",
   "execution_count": null,
   "metadata": {},
   "outputs": [],
   "source": []
  }
 ],
 "metadata": {
  "kernelspec": {
   "display_name": "Python 3",
   "language": "python",
   "name": "python3"
  },
  "language_info": {
   "codemirror_mode": {
    "name": "ipython",
    "version": 3
   },
   "file_extension": ".py",
   "mimetype": "text/x-python",
   "name": "python",
   "nbconvert_exporter": "python",
   "pygments_lexer": "ipython3",
   "version": "3.6.3"
  }
 },
 "nbformat": 4,
 "nbformat_minor": 2
}
